{
  "nbformat": 4,
  "nbformat_minor": 0,
  "metadata": {
    "colab": {
      "name": "circket.ipynb",
      "provenance": [],
      "collapsed_sections": []
    },
    "kernelspec": {
      "name": "python3",
      "display_name": "Python 3"
    }
  },
  "cells": [
    {
      "cell_type": "code",
      "metadata": {
        "id": "Bjkf8Mcmi2m5"
      },
      "source": [
        "import pandas as pd\n",
        "import yaml\n",
        "import os\n",
        "import time\n",
        "import numpy as np\n",
        "import warnings\n",
        "from sklearn.preprocessing import StandardScaler\n",
        "from sklearn.preprocessing import LabelEncoder\n",
        "from sklearn.model_selection import GridSearchCV\n",
        "from sklearn.neighbors import KNeighborsClassifier\n",
        "from xgboost import XGBClassifier\n",
        "from lightgbm import LGBMClassifier\n",
        "from sklearn.neighbors import DistanceMetric\n",
        "from sklearn.ensemble import  RandomForestClassifier\n",
        "from sklearn.svm import SVC\n",
        "import seaborn as sns\n",
        "sns.set()\n",
        "import matplotlib.pyplot as plt\n",
        "warnings.filterwarnings(\"ignore\")"
      ],
      "execution_count": 1,
      "outputs": []
    },
    {
      "cell_type": "code",
      "metadata": {
        "id": "2NbI3OLZXhlO"
      },
      "source": [
        "# data is taken from Cricsheets.org website. The data is in .yaml files for each match and coverted to csv files\n",
        "overall_batsman_details  = pd.read_csv('/content/drive/MyDrive/Colab Notebooks/cricket_dataset/overall_batsman_details.csv')\n",
        "overall_bowler_details = pd.read_csv('/content/drive/MyDrive/Colab Notebooks/cricket_dataset/overall_bowler_details.csv')\n",
        "match_batsman_details = pd.read_csv('/content/drive/MyDrive/Colab Notebooks/cricket_dataset/match_batsman_details.csv')\n",
        "match_bowler_details = pd.read_csv('/content/drive/MyDrive/Colab Notebooks/cricket_dataset/match_bowler_details.csv')"
      ],
      "execution_count": 2,
      "outputs": []
    },
    {
      "cell_type": "code",
      "metadata": {
        "colab": {
          "base_uri": "https://localhost:8080/",
          "height": 195
        },
        "id": "ksybqesBXwWa",
        "outputId": "2c34a8da-386e-4dc4-bf2a-5322f71b44f5"
      },
      "source": [
        "overall_bowler_details.head()"
      ],
      "execution_count": 3,
      "outputs": [
        {
          "output_type": "execute_result",
          "data": {
            "text/html": [
              "<div>\n",
              "<style scoped>\n",
              "    .dataframe tbody tr th:only-of-type {\n",
              "        vertical-align: middle;\n",
              "    }\n",
              "\n",
              "    .dataframe tbody tr th {\n",
              "        vertical-align: top;\n",
              "    }\n",
              "\n",
              "    .dataframe thead th {\n",
              "        text-align: right;\n",
              "    }\n",
              "</style>\n",
              "<table border=\"1\" class=\"dataframe\">\n",
              "  <thead>\n",
              "    <tr style=\"text-align: right;\">\n",
              "      <th></th>\n",
              "      <th>player_name</th>\n",
              "      <th>team</th>\n",
              "      <th>innings</th>\n",
              "      <th>runs</th>\n",
              "      <th>balls</th>\n",
              "      <th>wickets</th>\n",
              "      <th>extras</th>\n",
              "      <th>average</th>\n",
              "      <th>strike_rate</th>\n",
              "      <th>economy</th>\n",
              "      <th>wicket_hauls</th>\n",
              "    </tr>\n",
              "  </thead>\n",
              "  <tbody>\n",
              "    <tr>\n",
              "      <th>0</th>\n",
              "      <td>DAJ Bracewell</td>\n",
              "      <td>New Zealand</td>\n",
              "      <td>17</td>\n",
              "      <td>729</td>\n",
              "      <td>869</td>\n",
              "      <td>21</td>\n",
              "      <td>24</td>\n",
              "      <td>32.198484</td>\n",
              "      <td>40.157252</td>\n",
              "      <td>5.033482</td>\n",
              "      <td>1</td>\n",
              "    </tr>\n",
              "    <tr>\n",
              "      <th>1</th>\n",
              "      <td>MJ Henry</td>\n",
              "      <td>New Zealand</td>\n",
              "      <td>46</td>\n",
              "      <td>2316</td>\n",
              "      <td>2590</td>\n",
              "      <td>86</td>\n",
              "      <td>120</td>\n",
              "      <td>26.902224</td>\n",
              "      <td>29.702324</td>\n",
              "      <td>5.367408</td>\n",
              "      <td>8</td>\n",
              "    </tr>\n",
              "    <tr>\n",
              "      <th>2</th>\n",
              "      <td>MJ McClenaghan</td>\n",
              "      <td>New Zealand</td>\n",
              "      <td>45</td>\n",
              "      <td>2350</td>\n",
              "      <td>2439</td>\n",
              "      <td>92</td>\n",
              "      <td>150</td>\n",
              "      <td>24.219702</td>\n",
              "      <td>25.657518</td>\n",
              "      <td>5.771338</td>\n",
              "      <td>10</td>\n",
              "    </tr>\n",
              "    <tr>\n",
              "      <th>3</th>\n",
              "      <td>MJ Santner</td>\n",
              "      <td>New Zealand</td>\n",
              "      <td>54</td>\n",
              "      <td>2159</td>\n",
              "      <td>2631</td>\n",
              "      <td>61</td>\n",
              "      <td>71</td>\n",
              "      <td>27.837449</td>\n",
              "      <td>34.188382</td>\n",
              "      <td>4.919305</td>\n",
              "      <td>1</td>\n",
              "    </tr>\n",
              "    <tr>\n",
              "      <th>4</th>\n",
              "      <td>IS Sodhi</td>\n",
              "      <td>New Zealand</td>\n",
              "      <td>25</td>\n",
              "      <td>1143</td>\n",
              "      <td>1263</td>\n",
              "      <td>33</td>\n",
              "      <td>32</td>\n",
              "      <td>26.683407</td>\n",
              "      <td>30.533725</td>\n",
              "      <td>5.491139</td>\n",
              "      <td>2</td>\n",
              "    </tr>\n",
              "  </tbody>\n",
              "</table>\n",
              "</div>"
            ],
            "text/plain": [
              "      player_name         team  innings  ...  strike_rate   economy  wicket_hauls\n",
              "0   DAJ Bracewell  New Zealand       17  ...    40.157252  5.033482             1\n",
              "1        MJ Henry  New Zealand       46  ...    29.702324  5.367408             8\n",
              "2  MJ McClenaghan  New Zealand       45  ...    25.657518  5.771338            10\n",
              "3      MJ Santner  New Zealand       54  ...    34.188382  4.919305             1\n",
              "4        IS Sodhi  New Zealand       25  ...    30.533725  5.491139             2\n",
              "\n",
              "[5 rows x 11 columns]"
            ]
          },
          "metadata": {
            "tags": []
          },
          "execution_count": 3
        }
      ]
    },
    {
      "cell_type": "code",
      "metadata": {
        "colab": {
          "base_uri": "https://localhost:8080/",
          "height": 195
        },
        "id": "5_vEDE7dIigq",
        "outputId": "6a23f2b3-5817-430b-bbc4-42bda86aac7c"
      },
      "source": [
        "overall_batsman_details.head()"
      ],
      "execution_count": 4,
      "outputs": [
        {
          "output_type": "execute_result",
          "data": {
            "text/html": [
              "<div>\n",
              "<style scoped>\n",
              "    .dataframe tbody tr th:only-of-type {\n",
              "        vertical-align: middle;\n",
              "    }\n",
              "\n",
              "    .dataframe tbody tr th {\n",
              "        vertical-align: top;\n",
              "    }\n",
              "\n",
              "    .dataframe thead th {\n",
              "        text-align: right;\n",
              "    }\n",
              "</style>\n",
              "<table border=\"1\" class=\"dataframe\">\n",
              "  <thead>\n",
              "    <tr style=\"text-align: right;\">\n",
              "      <th></th>\n",
              "      <th>player_name</th>\n",
              "      <th>team</th>\n",
              "      <th>innings</th>\n",
              "      <th>runs</th>\n",
              "      <th>balls</th>\n",
              "      <th>average</th>\n",
              "      <th>strike_rate</th>\n",
              "      <th>centuries</th>\n",
              "      <th>fifties</th>\n",
              "      <th>zeros</th>\n",
              "    </tr>\n",
              "  </thead>\n",
              "  <tbody>\n",
              "    <tr>\n",
              "      <th>0</th>\n",
              "      <td>MD Gunathilaka</td>\n",
              "      <td>Sri Lanka</td>\n",
              "      <td>29</td>\n",
              "      <td>1115</td>\n",
              "      <td>1321</td>\n",
              "      <td>38.448276</td>\n",
              "      <td>78.123501</td>\n",
              "      <td>2</td>\n",
              "      <td>8</td>\n",
              "      <td>1</td>\n",
              "    </tr>\n",
              "    <tr>\n",
              "      <th>1</th>\n",
              "      <td>TM Dilshan</td>\n",
              "      <td>Sri Lanka</td>\n",
              "      <td>234</td>\n",
              "      <td>8646</td>\n",
              "      <td>10076</td>\n",
              "      <td>36.948718</td>\n",
              "      <td>81.745739</td>\n",
              "      <td>21</td>\n",
              "      <td>39</td>\n",
              "      <td>8</td>\n",
              "    </tr>\n",
              "    <tr>\n",
              "      <th>2</th>\n",
              "      <td>HDRL Thirimanne</td>\n",
              "      <td>Sri Lanka</td>\n",
              "      <td>95</td>\n",
              "      <td>2834</td>\n",
              "      <td>3934</td>\n",
              "      <td>29.831579</td>\n",
              "      <td>65.267925</td>\n",
              "      <td>4</td>\n",
              "      <td>17</td>\n",
              "      <td>5</td>\n",
              "    </tr>\n",
              "    <tr>\n",
              "      <th>3</th>\n",
              "      <td>LD Chandimal</td>\n",
              "      <td>Sri Lanka</td>\n",
              "      <td>116</td>\n",
              "      <td>3100</td>\n",
              "      <td>4255</td>\n",
              "      <td>26.724138</td>\n",
              "      <td>65.611057</td>\n",
              "      <td>3</td>\n",
              "      <td>21</td>\n",
              "      <td>10</td>\n",
              "    </tr>\n",
              "    <tr>\n",
              "      <th>4</th>\n",
              "      <td>AD Mathews</td>\n",
              "      <td>Sri Lanka</td>\n",
              "      <td>167</td>\n",
              "      <td>5046</td>\n",
              "      <td>6067</td>\n",
              "      <td>30.215569</td>\n",
              "      <td>75.520432</td>\n",
              "      <td>2</td>\n",
              "      <td>35</td>\n",
              "      <td>15</td>\n",
              "    </tr>\n",
              "  </tbody>\n",
              "</table>\n",
              "</div>"
            ],
            "text/plain": [
              "       player_name       team  innings  ...  centuries  fifties  zeros\n",
              "0   MD Gunathilaka  Sri Lanka       29  ...          2        8      1\n",
              "1       TM Dilshan  Sri Lanka      234  ...         21       39      8\n",
              "2  HDRL Thirimanne  Sri Lanka       95  ...          4       17      5\n",
              "3     LD Chandimal  Sri Lanka      116  ...          3       21     10\n",
              "4       AD Mathews  Sri Lanka      167  ...          2       35     15\n",
              "\n",
              "[5 rows x 10 columns]"
            ]
          },
          "metadata": {
            "tags": []
          },
          "execution_count": 4
        }
      ]
    },
    {
      "cell_type": "code",
      "metadata": {
        "colab": {
          "base_uri": "https://localhost:8080/",
          "height": 195
        },
        "id": "VyVpt7WKXzkR",
        "outputId": "e0fa7c3e-fc62-4eef-e84d-de5f6d207581"
      },
      "source": [
        "match_batsman_details.head()"
      ],
      "execution_count": 5,
      "outputs": [
        {
          "output_type": "execute_result",
          "data": {
            "text/html": [
              "<div>\n",
              "<style scoped>\n",
              "    .dataframe tbody tr th:only-of-type {\n",
              "        vertical-align: middle;\n",
              "    }\n",
              "\n",
              "    .dataframe tbody tr th {\n",
              "        vertical-align: top;\n",
              "    }\n",
              "\n",
              "    .dataframe thead th {\n",
              "        text-align: right;\n",
              "    }\n",
              "</style>\n",
              "<table border=\"1\" class=\"dataframe\">\n",
              "  <thead>\n",
              "    <tr style=\"text-align: right;\">\n",
              "      <th></th>\n",
              "      <th>date</th>\n",
              "      <th>name</th>\n",
              "      <th>team</th>\n",
              "      <th>opposition</th>\n",
              "      <th>venue</th>\n",
              "      <th>innings_played</th>\n",
              "      <th>previous_average</th>\n",
              "      <th>previous_strike_rate</th>\n",
              "      <th>previous_centuries</th>\n",
              "      <th>previous_fifties</th>\n",
              "      <th>previous_zeros</th>\n",
              "      <th>runs</th>\n",
              "    </tr>\n",
              "  </thead>\n",
              "  <tbody>\n",
              "    <tr>\n",
              "      <th>0</th>\n",
              "      <td>2015-12-28</td>\n",
              "      <td>MD Gunathilaka</td>\n",
              "      <td>Sri Lanka</td>\n",
              "      <td>New Zealand</td>\n",
              "      <td>Hagley Oval</td>\n",
              "      <td>0</td>\n",
              "      <td>0.0</td>\n",
              "      <td>0.0</td>\n",
              "      <td>0</td>\n",
              "      <td>0</td>\n",
              "      <td>0</td>\n",
              "      <td>17</td>\n",
              "    </tr>\n",
              "    <tr>\n",
              "      <th>1</th>\n",
              "      <td>2015-12-28</td>\n",
              "      <td>TM Dilshan</td>\n",
              "      <td>Sri Lanka</td>\n",
              "      <td>New Zealand</td>\n",
              "      <td>Hagley Oval</td>\n",
              "      <td>0</td>\n",
              "      <td>0.0</td>\n",
              "      <td>0.0</td>\n",
              "      <td>0</td>\n",
              "      <td>0</td>\n",
              "      <td>0</td>\n",
              "      <td>7</td>\n",
              "    </tr>\n",
              "    <tr>\n",
              "      <th>2</th>\n",
              "      <td>2015-12-28</td>\n",
              "      <td>HDRL Thirimanne</td>\n",
              "      <td>Sri Lanka</td>\n",
              "      <td>New Zealand</td>\n",
              "      <td>Hagley Oval</td>\n",
              "      <td>0</td>\n",
              "      <td>0.0</td>\n",
              "      <td>0.0</td>\n",
              "      <td>0</td>\n",
              "      <td>0</td>\n",
              "      <td>0</td>\n",
              "      <td>1</td>\n",
              "    </tr>\n",
              "    <tr>\n",
              "      <th>3</th>\n",
              "      <td>2015-12-28</td>\n",
              "      <td>LD Chandimal</td>\n",
              "      <td>Sri Lanka</td>\n",
              "      <td>New Zealand</td>\n",
              "      <td>Hagley Oval</td>\n",
              "      <td>0</td>\n",
              "      <td>0.0</td>\n",
              "      <td>0.0</td>\n",
              "      <td>0</td>\n",
              "      <td>0</td>\n",
              "      <td>0</td>\n",
              "      <td>9</td>\n",
              "    </tr>\n",
              "    <tr>\n",
              "      <th>4</th>\n",
              "      <td>2015-12-28</td>\n",
              "      <td>AD Mathews</td>\n",
              "      <td>Sri Lanka</td>\n",
              "      <td>New Zealand</td>\n",
              "      <td>Hagley Oval</td>\n",
              "      <td>0</td>\n",
              "      <td>0.0</td>\n",
              "      <td>0.0</td>\n",
              "      <td>0</td>\n",
              "      <td>0</td>\n",
              "      <td>0</td>\n",
              "      <td>17</td>\n",
              "    </tr>\n",
              "  </tbody>\n",
              "</table>\n",
              "</div>"
            ],
            "text/plain": [
              "         date             name  ... previous_zeros runs\n",
              "0  2015-12-28   MD Gunathilaka  ...              0   17\n",
              "1  2015-12-28       TM Dilshan  ...              0    7\n",
              "2  2015-12-28  HDRL Thirimanne  ...              0    1\n",
              "3  2015-12-28     LD Chandimal  ...              0    9\n",
              "4  2015-12-28       AD Mathews  ...              0   17\n",
              "\n",
              "[5 rows x 12 columns]"
            ]
          },
          "metadata": {
            "tags": []
          },
          "execution_count": 5
        }
      ]
    },
    {
      "cell_type": "code",
      "metadata": {
        "colab": {
          "base_uri": "https://localhost:8080/",
          "height": 195
        },
        "id": "j1wcoJHDX52X",
        "outputId": "01596082-4143-4441-9293-331550dbaf5d"
      },
      "source": [
        "match_bowler_details.head()"
      ],
      "execution_count": 6,
      "outputs": [
        {
          "output_type": "execute_result",
          "data": {
            "text/html": [
              "<div>\n",
              "<style scoped>\n",
              "    .dataframe tbody tr th:only-of-type {\n",
              "        vertical-align: middle;\n",
              "    }\n",
              "\n",
              "    .dataframe tbody tr th {\n",
              "        vertical-align: top;\n",
              "    }\n",
              "\n",
              "    .dataframe thead th {\n",
              "        text-align: right;\n",
              "    }\n",
              "</style>\n",
              "<table border=\"1\" class=\"dataframe\">\n",
              "  <thead>\n",
              "    <tr style=\"text-align: right;\">\n",
              "      <th></th>\n",
              "      <th>date</th>\n",
              "      <th>name</th>\n",
              "      <th>team</th>\n",
              "      <th>opposition</th>\n",
              "      <th>venue</th>\n",
              "      <th>innings_played</th>\n",
              "      <th>previous_average</th>\n",
              "      <th>previous_strike_rate</th>\n",
              "      <th>previous_economy</th>\n",
              "      <th>previous_wicket_hauls</th>\n",
              "      <th>wickets</th>\n",
              "    </tr>\n",
              "  </thead>\n",
              "  <tbody>\n",
              "    <tr>\n",
              "      <th>0</th>\n",
              "      <td>2015-12-28</td>\n",
              "      <td>DAJ Bracewell</td>\n",
              "      <td>New Zealand</td>\n",
              "      <td>Sri Lanka</td>\n",
              "      <td>Hagley Oval</td>\n",
              "      <td>0</td>\n",
              "      <td>0.0</td>\n",
              "      <td>0.0</td>\n",
              "      <td>0.0</td>\n",
              "      <td>0</td>\n",
              "      <td>1</td>\n",
              "    </tr>\n",
              "    <tr>\n",
              "      <th>1</th>\n",
              "      <td>NaN</td>\n",
              "      <td>MJ Henry</td>\n",
              "      <td>New Zealand</td>\n",
              "      <td>Sri Lanka</td>\n",
              "      <td>Hagley Oval</td>\n",
              "      <td>0</td>\n",
              "      <td>0.0</td>\n",
              "      <td>0.0</td>\n",
              "      <td>0.0</td>\n",
              "      <td>0</td>\n",
              "      <td>4</td>\n",
              "    </tr>\n",
              "    <tr>\n",
              "      <th>2</th>\n",
              "      <td>NaN</td>\n",
              "      <td>MJ McClenaghan</td>\n",
              "      <td>New Zealand</td>\n",
              "      <td>Sri Lanka</td>\n",
              "      <td>Hagley Oval</td>\n",
              "      <td>0</td>\n",
              "      <td>0.0</td>\n",
              "      <td>0.0</td>\n",
              "      <td>0.0</td>\n",
              "      <td>0</td>\n",
              "      <td>4</td>\n",
              "    </tr>\n",
              "    <tr>\n",
              "      <th>3</th>\n",
              "      <td>NaN</td>\n",
              "      <td>MJ Santner</td>\n",
              "      <td>New Zealand</td>\n",
              "      <td>Sri Lanka</td>\n",
              "      <td>Hagley Oval</td>\n",
              "      <td>0</td>\n",
              "      <td>0.0</td>\n",
              "      <td>0.0</td>\n",
              "      <td>0.0</td>\n",
              "      <td>0</td>\n",
              "      <td>0</td>\n",
              "    </tr>\n",
              "    <tr>\n",
              "      <th>4</th>\n",
              "      <td>NaN</td>\n",
              "      <td>IS Sodhi</td>\n",
              "      <td>New Zealand</td>\n",
              "      <td>Sri Lanka</td>\n",
              "      <td>Hagley Oval</td>\n",
              "      <td>0</td>\n",
              "      <td>0.0</td>\n",
              "      <td>0.0</td>\n",
              "      <td>0.0</td>\n",
              "      <td>0</td>\n",
              "      <td>1</td>\n",
              "    </tr>\n",
              "  </tbody>\n",
              "</table>\n",
              "</div>"
            ],
            "text/plain": [
              "         date            name  ... previous_wicket_hauls wickets\n",
              "0  2015-12-28   DAJ Bracewell  ...                     0       1\n",
              "1         NaN        MJ Henry  ...                     0       4\n",
              "2         NaN  MJ McClenaghan  ...                     0       4\n",
              "3         NaN      MJ Santner  ...                     0       0\n",
              "4         NaN        IS Sodhi  ...                     0       1\n",
              "\n",
              "[5 rows x 11 columns]"
            ]
          },
          "metadata": {
            "tags": []
          },
          "execution_count": 6
        }
      ]
    },
    {
      "cell_type": "code",
      "metadata": {
        "colab": {
          "base_uri": "https://localhost:8080/",
          "height": 0
        },
        "id": "KebvLrwJX9Dh",
        "outputId": "00b14501-2b1b-4886-9b8f-756f51c232e6"
      },
      "source": [
        "print(match_batsman_details.shape)\n",
        "print(match_bowler_details.shape)\n",
        "print(overall_batsman_details.shape)\n",
        "print(overall_bowler_details.shape)"
      ],
      "execution_count": 7,
      "outputs": [
        {
          "output_type": "stream",
          "text": [
            "(30161, 12)\n",
            "(21048, 11)\n",
            "(1566, 10)\n",
            "(1196, 11)\n"
          ],
          "name": "stdout"
        }
      ]
    },
    {
      "cell_type": "code",
      "metadata": {
        "colab": {
          "base_uri": "https://localhost:8080/",
          "height": 0
        },
        "id": "00RBglYoLkaG",
        "outputId": "a71312fe-e6d8-4d93-8eee-763dc228915b"
      },
      "source": [
        "overall_batsman_details.columns"
      ],
      "execution_count": 8,
      "outputs": [
        {
          "output_type": "execute_result",
          "data": {
            "text/plain": [
              "Index(['player_name', 'team', 'innings', 'runs', 'balls', 'average',\n",
              "       'strike_rate', 'centuries', 'fifties', 'zeros'],\n",
              "      dtype='object')"
            ]
          },
          "metadata": {
            "tags": []
          },
          "execution_count": 8
        }
      ]
    },
    {
      "cell_type": "code",
      "metadata": {
        "id": "i9-b7Fa0ZfTc",
        "colab": {
          "base_uri": "https://localhost:8080/",
          "height": 569
        },
        "outputId": "7dbe40d7-5ec5-4617-c85b-8bbd2c0b6ec2"
      },
      "source": [
        "bat_column = ['innings', 'runs', 'balls', 'average', 'strike_rate', 'centuries', 'fifties', 'zeros']\n",
        "bowl_column = ['innings', 'runs', 'balls', 'wickets', 'extras',\t'average',\t'strike_rate',\t'economy',\t'wicket_hauls']\n",
        "\n",
        "corr_bat = overall_batsman_details[bat_column].corr()\n",
        "plt.figure(figsize=(8, 8))\n",
        "sns.set_style('whitegrid')\n",
        "sns.heatmap(corr_bat,annot=True)\n",
        "plt.title(\"Correlation matrix for over all batting\")"
      ],
      "execution_count": 9,
      "outputs": [
        {
          "output_type": "execute_result",
          "data": {
            "text/plain": [
              "Text(0.5, 1.0, 'Correlation matrix for over all batting')"
            ]
          },
          "metadata": {
            "tags": []
          },
          "execution_count": 9
        },
        {
          "output_type": "display_data",
          "data": {
            "image/png": "[encoded data removed]",
            "text/plain": [
              "<Figure size 576x576 with 2 Axes>"
            ]
          },
          "metadata": {
            "tags": [],
            "needs_background": "light"
          }
        }
      ]
    },
    {
      "cell_type": "code",
      "metadata": {
        "colab": {
          "base_uri": "https://localhost:8080/",
          "height": 581
        },
        "id": "SAhri67AOAbc",
        "outputId": "cc9d06ca-46ee-4462-d064-d996a3053894"
      },
      "source": [
        "corr_bowl = overall_bowler_details[bowl_column].corr()\n",
        "\n",
        "plt.figure(figsize=(8, 8))\n",
        "sns.set_style('whitegrid')\n",
        "sns.heatmap(corr_bowl, annot=True)\n",
        "plt.title(\"Correlation matrix for over all bowler\")"
      ],
      "execution_count": 10,
      "outputs": [
        {
          "output_type": "execute_result",
          "data": {
            "text/plain": [
              "Text(0.5, 1.0, 'Correlation matrix for over all bowler')"
            ]
          },
          "metadata": {
            "tags": []
          },
          "execution_count": 10
        },
        {
          "output_type": "display_data",
          "data": {
            "image/png": "[encoded data removed]",
            "text/plain": [
              "<Figure size 576x576 with 2 Axes>"
            ]
          },
          "metadata": {
            "tags": []
          }
        }
      ]
    },
    {
      "cell_type": "code",
      "metadata": {
        "colab": {
          "base_uri": "https://localhost:8080/",
          "height": 482
        },
        "id": "i1cFzGI1OJdc",
        "outputId": "6440a57f-8ba8-402e-ccd0-44be3776e6ae"
      },
      "source": [
        "max_runs_by_batsman = match_batsman_details.nlargest(5, columns=['runs'])\n",
        "\n",
        "plt.figure(figsize=(7, 7))\n",
        "sns.set_style('whitegrid')\n",
        "ax = sns.barplot(x = max_runs_by_batsman['name'], y = max_runs_by_batsman['runs'], data= max_runs_by_batsman)\n",
        "plt.xlabel('player names')\n",
        "plt.ylabel('runs')\n",
        "plt.title(\"Top 5 maximum runs score by the batsman\")"
      ],
      "execution_count": 11,
      "outputs": [
        {
          "output_type": "execute_result",
          "data": {
            "text/plain": [
              "Text(0.5, 1.0, 'Top 5 maximum runs score by the batsman')"
            ]
          },
          "metadata": {
            "tags": []
          },
          "execution_count": 11
        },
        {
          "output_type": "display_data",
          "data": {
            "image/png": "[encoded data removed]",
            "text/plain": [
              "<Figure size 504x504 with 1 Axes>"
            ]
          },
          "metadata": {
            "tags": []
          }
        }
      ]
    },
    {
      "cell_type": "code",
      "metadata": {
        "colab": {
          "base_uri": "https://localhost:8080/",
          "height": 482
        },
        "id": "Q7sqUPa3PG21",
        "outputId": "5b82a14b-3eff-4ace-d366-da123f128f65"
      },
      "source": [
        "max_wickets_by_bowler = match_bowler_details.nlargest(5, columns=['wickets'])\n",
        "\n",
        "plt.figure(figsize=(7, 7))\n",
        "sns.set_style('whitegrid')\n",
        "ax = sns.barplot(x = max_wickets_by_bowler['name'], y = max_wickets_by_bowler['wickets'], data= max_wickets_by_bowler)\n",
        "plt.xlabel('player names')\n",
        "plt.ylabel('wickets')\n",
        "plt.title(\"Top 5 maximum wickets taken by the bowler\")"
      ],
      "execution_count": 12,
      "outputs": [
        {
          "output_type": "execute_result",
          "data": {
            "text/plain": [
              "Text(0.5, 1.0, 'Top 5 maximum wickets taken by the bowler')"
            ]
          },
          "metadata": {
            "tags": []
          },
          "execution_count": 12
        },
        {
          "output_type": "display_data",
          "data": {
            "image/png": "[encoded data removed]",
            "text/plain": [
              "<Figure size 504x504 with 1 Axes>"
            ]
          },
          "metadata": {
            "tags": []
          }
        }
      ]
    },
    {
      "cell_type": "code",
      "metadata": {
        "id": "eA6Ufz_Pf61x"
      },
      "source": [
        "# Help to return the best parameters\n",
        "\n",
        "def girdsearchcv_result(results):\n",
        "    arg, params, flag = None, None, None\n",
        "    split0 = results['split0_test_score'].max()\n",
        "    split1 = results['split1_test_score'].max()\n",
        "    if (split0 >= split1):\n",
        "        arg = results['split0_test_score'].argmax()\n",
        "        flag = split0\n",
        "    else:\n",
        "        arg = results['split1_test_score'].argmax()\n",
        "        flag = split1\n",
        "    params = results['params'][arg]\n",
        "    return flag, params"
      ],
      "execution_count": 13,
      "outputs": []
    },
    {
      "cell_type": "code",
      "metadata": {
        "id": "VkT4b_AKJPj6"
      },
      "source": [
        "# Function return's the accuracy of the algorithm and the prdicted score\n",
        "\n",
        "def player_performance(param, player_name, opposition=None, venue=None):\n",
        "    res = {}\n",
        "    score = []\n",
        "    name = []\n",
        "    if param == 1:\n",
        "        match_batsman_details.loc[:, 'date'].ffill(inplace=True) #filling the empty values\n",
        "        bat_match_details = match_batsman_details[match_batsman_details['name'] == player_name] # choose the selected player\n",
        "        bat_match_details = bat_match_details[bat_match_details['opposition'] == opposition] # choose the oppostion of the player played\n",
        "        bat_overall_details = overall_batsman_details[overall_batsman_details['player_name'] == player_name][['player_name', 'team', 'innings', 'runs', 'average', 'strike_rate', 'centuries', 'fifties', 'zeros']] # extract the data of the player\n",
        "        bat_features = bat_match_details.loc[:, ['opposition', 'venue', 'innings_played', 'previous_average' , 'previous_strike_rate', 'previous_centuries', 'previous_fifties', 'previous_zeros']] # extract the features of the player\n",
        "        bat_targets = bat_match_details.loc[:,['runs']] # outcome\n",
        "    elif param == 2:\n",
        "        match_bowler_details.loc[:,'date'].ffill(inplace = True) #filling the empty values\n",
        "        bowl_match_details = match_bowler_details[match_bowler_details['name'] == player_name] # choose the selected player\n",
        "        bowl_match_details = bowl_match_details[bowl_match_details['opposition'] == opposition] # choose the oppostion of the player played\n",
        "        bowl_overall_details = overall_bowler_details[overall_bowler_details['player_name'] == player_name][['player_name','team','innings','wickets','average','strike_rate','economy','wicket_hauls']] # extract the data of the player\n",
        "        bowl_features = bowl_match_details.loc[:,['opposition', 'venue', 'innings_played','previous_average', 'previous_strike_rate', 'previous_economy','previous_wicket_hauls']] # extract the features of the player\n",
        "        bowl_target = bowl_match_details.loc[:,['wickets']] # outcome\n",
        "    elif param == 3:\n",
        "        match_batsman_details.loc[:, 'date'].ffill(inplace=True) #filling the empty values\n",
        "        bat_match_details = match_batsman_details[match_batsman_details['name'] == player_name] # choose the selected player\n",
        "        bat_match_details = bat_match_details[bat_match_details['opposition'] == opposition] # choose the oppostion of the player played\n",
        "        bat_overall_details = overall_batsman_details[overall_batsman_details['player_name'] == player_name][['player_name', 'team', 'innings', 'runs', 'average', 'strike_rate', 'centuries', 'fifties', 'zeros']] # extract the data of the player\n",
        "        bat_features = bat_match_details.loc[:, ['opposition', 'venue', 'innings_played', 'previous_average' , 'previous_strike_rate', 'previous_centuries', 'previous_fifties', 'previous_zeros']] # extract the features of the player\n",
        "        bat_targets = bat_match_details.loc[:,['runs']] # outcome\n",
        "\n",
        "        match_bowler_details.loc[:,'date'].ffill(inplace = True)\n",
        "        bowl_match_details = match_bowler_details[match_bowler_details['name'] == player_name]\n",
        "        bowl_match_details = bowl_match_details[bowl_match_details['opposition'] == opposition]\n",
        "        bowl_overall_details = overall_bowler_details[overall_bowler_details['player_name'] == player_name][['player_name','team','innings','wickets','average','strike_rate','economy','wicket_hauls']]\n",
        "        bowl_features = bowl_match_details.loc[:,['opposition', 'venue', 'innings_played','previous_average', 'previous_strike_rate', 'previous_economy','previous_wicket_hauls']]\n",
        "        bowl_targets = bowl_match_details.loc[:,['wickets']]\n",
        "\n",
        "    le = LabelEncoder() # used to encode the opposition and venue beacuase they are in string format\n",
        "    sc = StandardScaler() \n",
        "\n",
        "    if (param == 1 or param == 3):\n",
        "\n",
        "        bins = [0, 10, 30, 50, 80, 120, 250]\n",
        "        labels = [\"0\", \"1\", \"2\", \"3\", \"4\", \"5\"]\n",
        "        bat_targets = pd.cut(bat_targets['runs'], bins, labels=labels, include_lowest=True)\n",
        "\n",
        "        classes_bat = len(bat_targets.unique())\n",
        "\n",
        "        if classes_bat >= 2:\n",
        "            le.fit(bat_features.loc[:,'opposition'])\n",
        "            opp_bat = le.transform([opposition])\n",
        "            bat_features.loc[:,'opposition'] = le.transform(bat_features.loc[:,'opposition'])\n",
        "            le.fit(bat_features.loc[:,'venue'])\n",
        "            ven_bat = le.transform([venue])\n",
        "            bat_features.loc[:,'venue'] = le.transform(bat_features.loc[:,'venue'])\n",
        "\n",
        "            predict_bat = bat_overall_details[['innings','average','strike_rate','centuries','fifties','zeros']].values[0]\n",
        "\n",
        "            bat_means = bat_features.loc[:,['innings_played','previous_average','previous_strike_rate','previous_centuries','previous_fifties','previous_zeros']].mean() #mean score of the player\n",
        "            bat_std = bat_features.loc[:,['innings_played','previous_average','previous_strike_rate','previous_centuries','previous_fifties','previous_zeros']].std() # std score of the player\n",
        "            predict_bat = ((predict_bat-bat_means)/bat_std).tolist() \n",
        "            bat_features.loc[:,['innings_played','previous_average','previous_strike_rate','previous_centuries','previous_fifties','previous_zeros']] = sc.fit_transform(bat_features.loc[:,['innings_played','previous_average','previous_strike_rate','previous_centuries','previous_fifties','previous_zeros']])\n",
        "\n",
        "            predict_bat.insert(0, ven_bat[0]) # insert the venue\n",
        "            predict_bat.insert(0, opp_bat[0]) # insert the opposition\n",
        "\n",
        "            bat_features = bat_features.values\n",
        "            bat_targets = bat_targets.values\n",
        "            predict_bat_features = np.array(predict_bat).reshape(-1,1)\n",
        "            predict_bat_features = predict_bat_features.T\n",
        "            predict_bat_features = np.nan_to_num(predict_bat_features) # covert the nan to numbers\n",
        "\n",
        "            print('\\n Batting Parameters Tuning begins')\n",
        "            \n",
        "            if classes_bat > 2:\n",
        "                bat_xgb = XGBClassifier(objective='multi:softmax', verbosity=0, silent=True)  #uses the XGBClassifier if no of classes bat is greater than 2\n",
        "            else:\n",
        "                bat_xgb = XGBClassifier(objective='binary:logistic', verbosity=0, silent=True) #uses the XGBClassifier if no of classes bat is less than 2 with objective logistic\n",
        "            bat_parameters_xgb = {'n_estimators': [75, 100, 125], 'learning_rate': [0.1, 0.01], 'booster': ['gbtree', 'dart']}\n",
        "\n",
        "            if classes_bat > 2:\n",
        "                bat_rfc = RandomForestClassifier(random_state=42) #uses the random forest\n",
        "                bat_parameters_rfc = {'n_estimators': [75, 100, 125], 'criterion': ['gini', 'entropy'], 'min_samples_leaf': [1, 2, 3]}\n",
        "            else:\n",
        "                bat_rfc = RandomForestClassifier(random_state=42, min_samples_leaf=1)\n",
        "                bat_parameters_rfc = {'n_estimators': [75, 100, 125], 'criterion': ['gini', 'entropy']}\n",
        "\n",
        "            bat_svc = SVC() #uses the support vector classification SVC()\n",
        "            bat_parameters_svc = {'C': [1, 5, 10], 'kernel': ['rbf','linear', 'sigmoid'], 'gamma': ['auto', 'scale']}\n",
        "            bat_knn = KNeighborsClassifier() #uses the K neighbors Classifier\n",
        "            bat_parameters_knn = {'n_neighbors': [1, 3], 'metric': ['euclidean', 'minkowski']}\n",
        "\n",
        "            bat_best_score, bat_best_params = None, None\n",
        "\n",
        "            #check for the best accuary amoung the all the above algorithm for the training data\n",
        "            #XGBClassifier\n",
        "            bat_girdsearch_xgb = GridSearchCV(estimator=bat_xgb, param_grid=bat_parameters_xgb, scoring='accuracy', cv=2)\n",
        "            bat_girdresult_xgb = bat_girdsearch_xgb.fit(bat_features, bat_targets)\n",
        "            bat_score, bat_params = girdsearchcv_result(bat_girdresult_xgb.cv_results_)\n",
        "            bat_best_score, bat_params = [bat_score, 'xgb'], bat_params\n",
        "            print(\"bat_score\", bat_score , 'with classifier = XGB')\n",
        "            score.append(bat_score*100)\n",
        "            name.append('XGB')\n",
        "            # Random forest\n",
        "            bat_girdsearch_rfc = GridSearchCV(estimator=bat_rfc, param_grid=bat_parameters_rfc, scoring='accuracy', cv=2)\n",
        "            bat_girdresult_rfc= bat_girdsearch_rfc.fit(bat_features, bat_targets)\n",
        "            bat_score, bat_params = girdsearchcv_result(bat_girdresult_rfc.cv_results_)\n",
        "            print(\"bat_score\", bat_score , 'with classifier = Random forest')\n",
        "            score.append(bat_score*100)\n",
        "            name.append('Random forest')\n",
        "            if bat_score > bat_best_score[0]:\n",
        "                bat_best_score , bat_best_params = [bat_score, 'rfc'], bat_params\n",
        "            #Support Vector Classifier\n",
        "            bat_girdsearch_svc = GridSearchCV(estimator=bat_svc, param_grid=bat_parameters_svc, scoring='accuracy', cv=2)\n",
        "            bat_girdresult_svc= bat_girdsearch_rfc.fit(bat_features, bat_targets)\n",
        "            bat_score, bat_params = girdsearchcv_result(bat_girdresult_svc.cv_results_)\n",
        "            print(\"bat_score\", bat_score, 'with classifier = SVC' )\n",
        "            score.append(bat_score*100)\n",
        "            name.append('SVC')\n",
        "            if bat_score > bat_best_score[0]:\n",
        "                bat_best_score , bat_best_params = [bat_score, 'svc'], bat_params\n",
        "            # KNeighbor\n",
        "            bat_girdsearch_knn = GridSearchCV(estimator=bat_knn, param_grid=bat_parameters_knn, scoring='accuracy', cv=2)\n",
        "            bat_girdresult_knn = bat_girdsearch_knn.fit(bat_features, bat_targets)\n",
        "            bat_score, bat_params = girdsearchcv_result(bat_girdresult_knn.cv_results_)\n",
        "            print(\"bat_score\", bat_score, 'with classifier = KNN')\n",
        "            score.append(bat_score*100)\n",
        "            name.append('KNN')\n",
        "            if bat_score > bat_best_score[0]:\n",
        "                bat_best_score, bat_best_params = [bat_score, 'knn'], bat_params\n",
        "\n",
        "            print(f'Batting Prediction accuracy={bat_best_score[0]} with classifier={bat_best_score[1].upper()}')\n",
        "\n",
        "            print(\"Batting Prediction begin\")\n",
        "            #start predicting for the required data by the best accuracy algorithm\n",
        "            #XGBClassifier\n",
        "            if bat_best_score[1] == 'xgb':\n",
        "                if classes_bat > 2:\n",
        "                    bat_classifier = XGBClassifier(objective='multi:softmax',n_estimators=bat_best_params['n_estimators'],learning_rate=bat_best_params['learning_rate'],booster=bat_best_params['booster'],verbosity=0,silent=True)\n",
        "                else:\n",
        "                    bat_classifier = XGBClassifier(objective='binary:logistic',min_leaf_samples=1,n_estimators=bat_best_params['n_estimators'], learning_rate=bat_best_params['learning_rate'], booster=bat_best_params['booster'], verbosity=0, silent=True)\n",
        "                bat_classifier = bat_classifier.fit(bat_features, bat_targets)\n",
        "                res['bat_prediction'] = bat_classifier.predict(predict_bat_features)\n",
        "            #RandomForestClassifier\n",
        "            elif bat_best_score[1] == 'rfc':\n",
        "                if classes_bat > 2:\n",
        "                    bat_classifier = RandomForestClassifier(n_estimators=bat_best_params['n_estimators'],criterion=bat_best_params['criterion'],random_state=42,min_samples_leaf=bat_best_params['min_samples_leaf'])\n",
        "                else:\n",
        "                    bat_classifier = RandomForestClassifier(n_estimators=bat_best_params['n_estimators'],criterion=bat_best_params['criterion'],random_state=42,min_samples_leaf=1)\n",
        "                bat_classifier = bat_classifier.fit(bat_features, bat_targets)\n",
        "                res['bat_prediction'] = bat_classifier.predict(predict_bat_features)\n",
        "                #SupportVectorMachine\n",
        "            elif bat_best_score[1] == 'svc':\n",
        "                bat_classifier = SVC(C=bat_best_params['C'],kernel=bat_best_params['kernel'],gamma=bat_best_params['gamma'])\n",
        "                bat_classifier = bat_classifier.fit(bat_features,bat_targets)\n",
        "                res['bat_prediction'] = bat_classifier.predict(predict_bat_features)\n",
        "            #KNeighborsClassifier\n",
        "            elif bat_best_score[1] == 'knn':\n",
        "                bat_classifier = KNeighborsClassifier(n_neighbors=bat_best_params['n_neighbors'], metric=bat_best_params['metric'])\n",
        "                bat_classifier = bat_classifier.fit(bat_features, bat_targets)\n",
        "                res['bat_prediction'] = bat_classifier.predict(predict_bat_features)\n",
        "            bat_runs = {'0':'0-10','1':'11-30','2':'31-50','3':'51-80','4':'81-120','5':'121-250'}\n",
        "            res['bat_prediction'] = bat_runs[res['bat_prediction'][0]]\n",
        "\n",
        "            print(\"Batting prediction completed\")\n",
        "        else:\n",
        "            print('No Batting prediction')\n",
        "    else:\n",
        "        print('No Batting prediction')\n",
        "    #simliar process will takes place in the bowl prediciton as well\n",
        "    if (param == 2 or param == 3):\n",
        "\n",
        "        bins = [0, 1, 3, 5, 7, 10, 11]\n",
        "        labels = ['0', '1',  '2', '3', '4', '5']\n",
        "        bowl_targets = pd.cut(bowl_targets['wickets'], bins, right=False, labels=labels, include_lowest=True )\n",
        "\n",
        "        classes_bowl = len(bowl_targets.unique())\n",
        "\n",
        "        if classes_bowl >= 2:\n",
        "\n",
        "            le.fit(bowl_features['opposition'])\n",
        "            opp_bowl = le.transform([opposition])\n",
        "            bowl_features['opposition'] = le.transform(bowl_features['opposition'])\n",
        "            le.fit(bowl_features['venue'])\n",
        "            venue_bowl = le.transform([venue])\n",
        "            bowl_features['venue'] = le.transform(bowl_features['venue'])\n",
        "\n",
        "            predict_bowl = bowl_overall_details[['innings','average','strike_rate','economy','wicket_hauls']].values[0]\n",
        "\n",
        "            bowl_means = bowl_features.loc[:,['innings_played','previous_average', 'previous_strike_rate', 'previous_economy','previous_wicket_hauls']].mean()\n",
        "            bowl_std= bowl_features.loc[:,['innings_played','previous_average', 'previous_strike_rate', 'previous_economy','previous_wicket_hauls']].std()\n",
        "            predict_bowl = ((predict_bowl-bowl_means)/bowl_std).tolist()\n",
        "            bowl_features.loc[:,['innings_played','previous_average', 'previous_strike_rate', 'previous_economy','previous_wicket_hauls']] = sc.fit_transform(bowl_features.loc[:,['innings_played','previous_average', 'previous_strike_rate', 'previous_economy','previous_wicket_hauls']])\n",
        "\n",
        "            predict_bowl.insert(0, venue_bowl[0])\n",
        "            predict_bowl.insert(0, opp_bowl[0])\n",
        "\n",
        "            bowl_features = bowl_features.values\n",
        "            bowl_targets = bowl_targets.values\n",
        "            predict_bowl_features = np.array(predict_bowl).reshape(-1, 1)\n",
        "            predict_bowl_features = predict_bowl_features.T\n",
        "            predict_bowl_features = np.nan_to_num(predict_bowl_features)\n",
        "\n",
        "            print('\\nBowling Parameter Tuning begins...')\n",
        "            #XGBClassifier\n",
        "            if classes_bowl > 2:\n",
        "                bowl_xgb = XGBClassifier(objective='multi:softmax', verbosity=0, silent=True)\n",
        "            else:\n",
        "                bowl_xgb = XGBClassifier(objective='binary:logistic',min_leaf_samples=1, verbosity=0, silent=True)\n",
        "            bowl_parameters_xgb = {'n_estimators': [75, 100, 125], 'learning_rate': [0.1, 0.01], 'booster': ['gbtree', 'dart']}\n",
        "            \n",
        "            #RandomForestClassifier\n",
        "            if classes_bowl > 2:\n",
        "                bowl_rfc = RandomForestClassifier(random_state=42)\n",
        "                bowl_parameters_rfc = {'n_estimators': [75, 100, 125], 'criterion': ['gini', 'entropy'], 'min_samples_leaf': [1, 2, 3]}\n",
        "            else:\n",
        "                bowl_rfc = RandomForestClassifier(random_state=42, min_samples_leaf=1)\n",
        "                bowl_parameters_rfc = {'n_estimators': [75, 100, 125], 'criterion': ['gini', 'entropy']}\n",
        "            #SupportVectorMachine\n",
        "            bowl_svc = SVC()\n",
        "            bowl_parameters_svc = {'C': [1, 5, 10], 'kernel': ['rbf','linear', 'sigmoid'], 'gamma': ['auto', 'scale']}\n",
        "            #KNeighborsClassifier\n",
        "            bowl_knn = KNeighborsClassifier()\n",
        "            bowl_parameters_knn = {'n_neighbors': [1], 'metric': ['euclidean', 'minkowski']}\n",
        "\n",
        "            bowl_best_score, bowl_best_params = None, None\n",
        "            #XGBClassifier\n",
        "            bowl_girdsearch_xgb = GridSearchCV(estimator=bowl_xgb, param_grid=bowl_parameters_xgb, scoring='accuracy', cv=2)\n",
        "            bowl_girdresult_xgb = bowl_girdsearch_xgb.fit(bowl_features, bowl_targets)\n",
        "            bowl_score, bowl_params = girdsearchcv_result(bowl_girdresult_xgb.cv_results_)\n",
        "            bowl_best_score, bowl_best_params = [bowl_score, 'xgb'], bowl_params\n",
        "            print(\"bowl_score\", bowl_score, 'with classifier = XGB')\n",
        "            #RandomForestClassifier\n",
        "            bowl_girdsearch_rfc = GridSearchCV(estimator=bowl_rfc, param_grid=bowl_parameters_rfc, scoring='accuracy', cv=2)\n",
        "            bowl_girdresult_rfc= bowl_girdsearch_rfc.fit(bowl_features, bowl_targets)\n",
        "            bowl_score, bowl_params = girdsearchcv_result(bowl_girdresult_rfc.cv_results_)\n",
        "            print(\"bowl_score\", bowl_score, 'with classifier = Random forest')\n",
        "            if bowl_score > bowl_best_score[0]:\n",
        "                bowl_best_score , bowl_best_params = [bowl_score, 'rfc'], bowl_params\n",
        "            #SupportVectorMachine\n",
        "            bowl_girdsearch_svc = GridSearchCV(estimator=bowl_svc, param_grid=bowl_parameters_svc, scoring='accuracy', cv=2)\n",
        "            bowl_girdresult_svc= bowl_girdsearch_rfc.fit(bowl_features, bowl_targets)\n",
        "            bowl_score, bowl_params = girdsearchcv_result(bowl_girdresult_svc.cv_results_)\n",
        "            print(\"bowl_score\", bowl_score, 'with classifier= SVC')\n",
        "            if bowl_score > bowl_best_score[0]:\n",
        "                bowl_best_score , bowl_best_params = [bowl_score, 'svc'], bowl_params\n",
        "            #KNeighborsClassifier\n",
        "            bowl_girdsearch_knn = GridSearchCV(estimator=bowl_knn, param_grid=bowl_parameters_knn, scoring='accuracy', cv=2)\n",
        "            bowl_girdresult_knn = bowl_girdsearch_knn.fit(bowl_features, bowl_targets)\n",
        "            bowl_score, bowl_params = girdsearchcv_result(bowl_girdresult_knn.cv_results_)\n",
        "            print(\"bowl_score\", bowl_score, 'with classifier= KNN')\n",
        "            if bowl_score > bowl_best_score[0]:\n",
        "                bowl_best_score, bowl_best_params = [bowl_score, 'knn'], bowl_params\n",
        "\n",
        "            print(f'Bowling Prediction accuracy={bowl_best_score[0]} with classifier={bowl_best_score[1].upper()}')\n",
        "\n",
        "            print(\"Bowling Prediction begin\")\n",
        "            #XGBClassifier\n",
        "            if bowl_best_score[1] == 'xgb':\n",
        "                if classes_bowl > 2:\n",
        "                    bowl_classifier = XGBClassifier(objective='multi:softmax',n_estimators=bowl_best_params['n_estimators'],learning_rate=bowl_best_params['learning_rate'],booster=bowl_best_params['booster'],verbosity=0,silent=True)\n",
        "                else:\n",
        "                    bowl_classifier = XGBClassifier(objective='binary:logistic', min_leaf_samples=1,n_estimators=bowl_best_params['n_estimators'], learning_rate=bowl_best_params['learning_rate'], booster=bowl_best_params['booster'], verbosity=0, silent=True)\n",
        "                bowl_classifier = bowl_classifier.fit(bowl_features, bowl_targets)\n",
        "                res['bowl_prediction'] = bowl_classifier.predict(predict_bowl_features)\n",
        "            #RandomForestClassifier\n",
        "            elif bowl_best_score[1] == 'rfc':\n",
        "                if classes_bowl > 2:\n",
        "                    bowl_classifier = RandomForestClassifier(n_estimators=bowl_best_params['n_estimators'],criterion=bowl_best_params['criterion'],random_state=42,min_samples_leaf=bowl_best_params['min_samples_leaf'])\n",
        "                else:\n",
        "                    bowl_classifier = RandomForestClassifier(n_estimators=bowl_best_params['n_estimators'],criterion=bowl_best_params['criterion'],random_state=42,min_samples_leaf=1)\n",
        "                bowl_classifier = bowl_classifier.fit(bowl_features, bowl_targets)\n",
        "                res['bowl_prediction'] = bowl_classifier.predict(predict_bowl_features)\n",
        "            #SupportVectorMachine\n",
        "            elif bowl_best_score[1] == 'svc':\n",
        "                bowl_classifier = SVC(C=bowl_best_params['C'],kernel=bowl_best_params['kernel'],gamma=bowl_best_params['gamma'])\n",
        "                bowl_classifier = bowl_classifier.fit(bowl_features,bowl_targets)\n",
        "                res['bowl_prediction'] = bowl_classifier.predict(predict_bowl_features)\n",
        "            #KNeighborsClassifier\n",
        "            elif bowl_best_score[1] == 'knn':\n",
        "                bowl_classifier = KNeighborsClassifier(n_neighbors=bowl_best_params['n_neighbors'], metric=bowl_best_params['metric'])\n",
        "                bowl_classifier = bowl_classifier.fit(bowl_features, bowl_targets)\n",
        "                res['bat_prediction'] = bowl_classifier.predict(predict_bowl_features)\n",
        "            bowl_wickets = {'0':'0','1':'1-2','2':'3-4','3':'5-6','4':'7-9','5':'10'}\n",
        "            res['bowl_prediction'] = bowl_wickets[res['bowl_prediction'][0]]\n",
        "\n",
        "            print(\"Bowling prediction completed\")\n",
        "        else:\n",
        "            print('No Bowling prediction')\n",
        "    else:\n",
        "        print('No Bowling prediction')\n",
        "\n",
        "\n",
        "    return res"
      ],
      "execution_count": 17,
      "outputs": []
    },
    {
      "cell_type": "code",
      "metadata": {
        "id": "ILlwBUd6g8JS"
      },
      "source": [
        "def input_values(input_value, check_list_1=None, check_list_2=None):\n",
        "    if check_list_1 != None:\n",
        "        if check_list_2 != None:\n",
        "            print_list = sorted(set(check_list_1) & set(check_list_2))\n",
        "            print(f'\\nAvailable {input_value} : ',*print_list, sep='\"\\t\"')\n",
        "        else:\n",
        "            print(f'\\nAvailable {input_value} : ',*check_list_1, sep='\"\\t\"')\n",
        "    else:\n",
        "        if check_list_2 != None:\n",
        "            print(f'\\nAvailable {input_value} : ',*check_list_1, sep='\"\\t\"')\n",
        "        else:\n",
        "            pass\n",
        "    \n",
        "    while True:\n",
        "        flag = 0\n",
        "        res = input(f'\\n Enter thr desired {input_value}: ')\n",
        "        if check_list_1 != None:\n",
        "            if res in check_list_1:\n",
        "                flag += 1\n",
        "        if check_list_2 != None:\n",
        "            if res in check_list_2:\n",
        "                flag += 2\n",
        "        if flag>0:\n",
        "            return res, flag\n",
        "        else:\n",
        "            print('invalid input')\n",
        "            continue"
      ],
      "execution_count": 18,
      "outputs": []
    },
    {
      "cell_type": "code",
      "metadata": {
        "colab": {
          "base_uri": "https://localhost:8080/",
          "height": 0
        },
        "id": "hsQSjeGEnr6y",
        "outputId": "0ee3fa6c-f818-4925-8b81-a717b5e09388"
      },
      "source": [
        "# take the user input\n",
        "team,dump = input_values('team', match_batsman_details['team'].unique().tolist())\n",
        "print(dump,team)\n",
        "\n",
        "player_name, param_player = input_values('player_name', sorted(match_batsman_details[match_batsman_details['team'] == team]['name'].unique().tolist()), sorted(match_bowler_details[match_bowler_details['team'] == team]['name'].unique().tolist()))\n",
        "opposition, param_opp = input_values('opposition', sorted(match_batsman_details[match_batsman_details['name']==player_name]['opposition'].unique().tolist()), sorted(match_bowler_details[match_bowler_details['name'] == player_name]['opposition'].unique().tolist()))\n",
        "venue_batsman_name = match_batsman_details[match_batsman_details['name'] == player_name]['venue']\n",
        "venue_batsman_opposition = match_batsman_details[match_batsman_details['opposition'] == opposition]['venue']\n",
        "venue_bowler_name = match_bowler_details[match_bowler_details['name'] == player_name]['venue']\n",
        "venue_bowler_opposition = match_bowler_details[match_bowler_details['opposition'] == opposition]['venue']\n",
        "venue, param_ven = input_values('venue', sorted(venue_batsman_name[venue_batsman_name.isin(venue_batsman_opposition)].unique().tolist()), sorted(venue_bowler_name[venue_bowler_name.isin(venue_bowler_opposition)].unique().tolist()))\n",
        "param = param_player\n",
        "if param > param_opp:\n",
        "    param = param_opp\n",
        "if param > param_ven:\n",
        "    param = param_ven\n",
        "res = player_performance(param,player_name,opposition,venue)\n",
        "print('\\n')\n",
        "if 'bat_prediction' in res:\n",
        "    print(f'Number of predicted runs:{res[\"bat_prediction\"]}')\n",
        "if \"bowl_prediction\" in res:\n",
        "    print(f'Number of predicted wickets:{res[\"bowl_prediction\"]}')"
      ],
      "execution_count": 20,
      "outputs": [
        {
          "output_type": "stream",
          "text": [
            "\n",
            "Available team : \"\t\"Sri Lanka\"\t\"New Zealand\"\t\"India\"\t\"Pakistan\"\t\"England\"\t\"Bangladesh\"\t\"West Indies\"\t\"South Africa\"\t\"Zimbabwe\"\t\"Australia\"\t\"Scotland\"\t\"United Arab Emirates\"\t\"Afghanistan\"\t\"Ireland\"\t\"Canada\"\t\"Hong Kong\"\t\"Kenya\"\t\"Bermuda\"\t\"Netherlands\"\t\"Asia XI\"\t\"Africa XI\"\t\"Papua New Guinea\"\t\"United States of America\"\t\"Nepal\"\t\"Oman\"\t\"Namibia\n",
            "\n",
            " Enter thr desired team: New Zealand\n",
            "1 New Zealand\n",
            "\n",
            "Available player_name : \"\t\"AC Kerr\"\t\"AE Satterthwaite\"\t\"AF Milne\"\t\"AJ McKay\"\t\"AM Ellis\"\t\"AM Peterson\"\t\"AP Devcich\"\t\"AR Adams\"\t\"BJ Diamanti\"\t\"BM Wheeler\"\t\"C Munro\"\t\"C de Grandhomme\"\t\"CD McMillan\"\t\"CJ Anderson\"\t\"CL Cairns\"\t\"CS Martin\"\t\"DAJ Bracewell\"\t\"DL Vettori\"\t\"DR Flynn\"\t\"DR Tuffey\"\t\"EM Bermingham\"\t\"FL Mackay\"\t\"GA Guy\"\t\"GD Elliott\"\t\"GH Worker\"\t\"HK Bennett\"\t\"HM Rowe\"\t\"HNK Jensen\"\t\"HR Huddleston\"\t\"IE O'Brien\"\t\"IG Butler\"\t\"IS Sodhi\"\t\"JD Ryder\"\t\"JDP Oram\"\t\"JDS Neesham\"\t\"JEC Franklin\"\t\"JM Kerr\"\t\"JS Patel\"\t\"KA Jamieson\"\t\"KD Mills\"\t\"KE Broadmore\"\t\"KS Williamson\"\t\"L Vincent\"\t\"LH Ferguson\"\t\"LJ Woodcock\"\t\"LM Kasperek\"\t\"LMM Tahuhu\"\t\"LR Doolan\"\t\"LRPL Taylor\"\t\"MD Bates\"\t\"MJ Guptill\"\t\"MJ Henry\"\t\"MJ Mason\"\t\"MJ McClenaghan\"\t\"MJ Santner\"\t\"MJG Nielsen\"\t\"MR Gillespie\"\t\"NJ Astle\"\t\"NJ Browne\"\t\"NL McCullum\"\t\"PA Hitchcock\"\t\"RA Mair\"\t\"RH Candy\"\t\"RJ Nicol\"\t\"SB Styris\"\t\"SC Kuggeleijn\"\t\"SE Bond\"\t\"SEA Ruck\"\t\"SFM Devine\"\t\"SW Bates\"\t\"TA Boult\"\t\"TD Astle\"\t\"TG Southee\"\t\"TMM Newton\"\t\"TS Nethula\n",
            "\n",
            " Enter thr desired player_name: AE Satterthwaite\n",
            "\n",
            "Available opposition : \"\t\"Australia\"\t\"India\"\t\"Pakistan\"\t\"South Africa\"\t\"Sri Lanka\n",
            "\n",
            " Enter thr desired opposition: Australia\n",
            "\n",
            "Available venue : \"\t\"Bay Oval\"\t\"Boland Park\"\t\"County Ground\"\t\"Eden Park No 2\"\t\"M Chinnaswamy Stadium\"\t\"McLean Park\"\t\"North Sydney Oval\n",
            "\n",
            " Enter thr desired venue: County Ground\n",
            "\n",
            " Batting Parameters Tuning begins\n",
            "bat_score 0.3333333333333333 with classifier = XGB\n",
            "bat_score 0.3333333333333333 with classifier = Random forest\n",
            "bat_score 0.3333333333333333 with classifier = SVC\n",
            "bat_score 0.5 with classifier = KNN\n",
            "Batting Prediction accuracy=0.5 with classifier=KNN\n",
            "Batting Prediction begin\n",
            "Batting prediction completed\n",
            "\n",
            "Bowling Parameter Tuning begins...\n",
            "bowl_score 0.6666666666666666 with classifier = XGB\n",
            "bowl_score 0.6666666666666666 with classifier = Random forest\n",
            "bowl_score 0.6666666666666666 with classifier= SVC\n",
            "bowl_score 0.5 with classifier= KNN\n",
            "Bowling Prediction accuracy=0.6666666666666666 with classifier=XGB\n",
            "Bowling Prediction begin\n",
            "Bowling prediction completed\n",
            "\n",
            "\n",
            "Number of predicted runs:11-30\n",
            "Number of predicted wickets:1-2\n"
          ],
          "name": "stdout"
        }
      ]
    },
    {
      "cell_type": "code",
      "metadata": {
        "id": "uHwhIZ1U7JHv"
      },
      "source": [
        ""
      ],
      "execution_count": 16,
      "outputs": []
    }
  ]
}