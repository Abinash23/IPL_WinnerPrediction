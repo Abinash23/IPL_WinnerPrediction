{
 "cells": [
  {
   "cell_type": "code",
   "execution_count": 1,
   "metadata": {
    "_cell_guid": "b1076dfc-b9ad-4769-8c92-a6c4dae69d19",
    "_uuid": "8f2839f25d086af736a60e9eeb907d3b93b6e0e5",
    "execution": {
     "iopub.execute_input": "2021-01-01T13:00:18.923439Z",
     "iopub.status.busy": "2021-01-01T13:00:18.922494Z",
     "iopub.status.idle": "2021-01-01T13:00:20.977979Z",
     "shell.execute_reply": "2021-01-01T13:00:20.977291Z"
    },
    "papermill": {
     "duration": 2.074438,
     "end_time": "2021-01-01T13:00:20.978139",
     "exception": false,
     "start_time": "2021-01-01T13:00:18.903701",
     "status": "completed"
    },
    "tags": []
   },
   "outputs": [
    {
     "name": "stdout",
     "output_type": "stream",
     "text": [
      "/kaggle/input/winnerpredictionchallenge/IPL 2020 Squads.csv\n",
      "/kaggle/input/winnerpredictionchallenge/Traning Deliveries Matches IPL 2008-2019.csv\n",
      "/kaggle/input/winnerpredictionchallenge/Qualifiers IPL 2008-2019.csv\n",
      "/kaggle/input/winnerpredictionchallenge/Testset Matches IPL 2020.csv\n",
      "/kaggle/input/winnerpredictionchallenge/Training Matches IPL 2008-2019.csv\n",
      "/kaggle/input/winnerpredictionchallenge/sample submission.csv\n"
     ]
    }
   ],
   "source": [
    "# This Python 3 environment comes with many helpful analytics libraries installed\n",
    "# It is defined by the kaggle/python Docker image: https://github.com/kaggle/docker-python\n",
    "# For example, here's several helpful packages to load\n",
    "\n",
    "import numpy as np # linear algebra\n",
    "import pandas as pd # data processing, CSV file I/O (e.g. pd.read_csv)\n",
    "\n",
    "# Input data files are available in the read-only \"../input/\" directory\n",
    "# For example, running this (by clicking run or pressing Shift+Enter) will list all files under the input directory\n",
    "\n",
    "import matplotlib.pyplot as plt\n",
    "import seaborn as sns\n",
    "from sklearn.preprocessing import LabelEncoder\n",
    "from sklearn.ensemble import RandomForestClassifier\n",
    "from sklearn.linear_model import LogisticRegression\n",
    "from sklearn.model_selection import train_test_split\n",
    "from sklearn.feature_selection import RFE\n",
    "from sklearn.preprocessing import StandardScaler\n",
    "from sklearn.svm import SVC\n",
    "from sklearn.tree import DecisionTreeClassifier\n",
    "from sklearn.metrics import confusion_matrix, classification_report\n",
    "from sklearn.model_selection import  KFold\n",
    "from xgboost import XGBClassifier\n",
    "from sklearn.naive_bayes import GaussianNB\n",
    "from sklearn.neighbors import KNeighborsClassifier\n",
    "import warnings\n",
    "warnings.filterwarnings(\"ignore\")\n",
    "\n",
    "import os\n",
    "for dirname, _, filenames in os.walk('/kaggle/input'):\n",
    "    for filename in filenames:\n",
    "        print(os.path.join(dirname, filename))\n",
    "\n",
    "# You can write up to 20GB to the current directory (/kaggle/working/) that gets preserved as output when you create a version using \"Save & Run All\" \n",
    "# You can also write temporary files to /kaggle/temp/, but they won't be saved outside of the current session"
   ]
  },
  {
   "cell_type": "code",
   "execution_count": 2,
   "metadata": {
    "_cell_guid": "79c7e3d0-c299-4dcb-8224-4455121ee9b0",
    "_uuid": "d629ff2d2480ee46fbb7e2d37f6b5fab8052498a",
    "execution": {
     "iopub.execute_input": "2021-01-01T13:00:21.016605Z",
     "iopub.status.busy": "2021-01-01T13:00:21.016043Z",
     "iopub.status.idle": "2021-01-01T13:00:21.067616Z",
     "shell.execute_reply": "2021-01-01T13:00:21.067029Z"
    },
    "papermill": {
     "duration": 0.073494,
     "end_time": "2021-01-01T13:00:21.067722",
     "exception": false,
     "start_time": "2021-01-01T13:00:20.994228",
     "status": "completed"
    },
    "tags": []
   },
   "outputs": [
    {
     "data": {
      "text/html": [
       "<div>\n",
       "<style scoped>\n",
       "    .dataframe tbody tr th:only-of-type {\n",
       "        vertical-align: middle;\n",
       "    }\n",
       "\n",
       "    .dataframe tbody tr th {\n",
       "        vertical-align: top;\n",
       "    }\n",
       "\n",
       "    .dataframe thead th {\n",
       "        text-align: right;\n",
       "    }\n",
       "</style>\n",
       "<table border=\"1\" class=\"dataframe\">\n",
       "  <thead>\n",
       "    <tr style=\"text-align: right;\">\n",
       "      <th></th>\n",
       "      <th>id</th>\n",
       "      <th>season</th>\n",
       "      <th>city</th>\n",
       "      <th>date</th>\n",
       "      <th>team1</th>\n",
       "      <th>team2</th>\n",
       "      <th>toss_winner</th>\n",
       "      <th>toss_decision</th>\n",
       "      <th>result</th>\n",
       "      <th>dl_applied</th>\n",
       "      <th>winner</th>\n",
       "      <th>win_by_runs</th>\n",
       "      <th>win_by_wickets</th>\n",
       "      <th>player_of_match</th>\n",
       "      <th>venue</th>\n",
       "      <th>umpire1</th>\n",
       "      <th>umpire2</th>\n",
       "      <th>umpire3</th>\n",
       "    </tr>\n",
       "  </thead>\n",
       "  <tbody>\n",
       "    <tr>\n",
       "      <th>0</th>\n",
       "      <td>60</td>\n",
       "      <td>2008</td>\n",
       "      <td>Bangalore</td>\n",
       "      <td>18-04-2008</td>\n",
       "      <td>Kolkata Knight Riders</td>\n",
       "      <td>Royal Challengers Bangalore</td>\n",
       "      <td>Royal Challengers Bangalore</td>\n",
       "      <td>field</td>\n",
       "      <td>normal</td>\n",
       "      <td>0</td>\n",
       "      <td>Kolkata Knight Riders</td>\n",
       "      <td>140</td>\n",
       "      <td>0</td>\n",
       "      <td>BB McCullum</td>\n",
       "      <td>M Chinnaswamy Stadium</td>\n",
       "      <td>Asad Rauf</td>\n",
       "      <td>RE Koertzen</td>\n",
       "      <td>NaN</td>\n",
       "    </tr>\n",
       "    <tr>\n",
       "      <th>1</th>\n",
       "      <td>61</td>\n",
       "      <td>2008</td>\n",
       "      <td>Chandigarh</td>\n",
       "      <td>19-04-2008</td>\n",
       "      <td>Chennai Super Kings</td>\n",
       "      <td>Kings XI Punjab</td>\n",
       "      <td>Chennai Super Kings</td>\n",
       "      <td>bat</td>\n",
       "      <td>normal</td>\n",
       "      <td>0</td>\n",
       "      <td>Chennai Super Kings</td>\n",
       "      <td>33</td>\n",
       "      <td>0</td>\n",
       "      <td>MEK Hussey</td>\n",
       "      <td>Punjab Cricket Association Stadium, Mohali</td>\n",
       "      <td>MR Benson</td>\n",
       "      <td>SL Shastri</td>\n",
       "      <td>NaN</td>\n",
       "    </tr>\n",
       "    <tr>\n",
       "      <th>2</th>\n",
       "      <td>62</td>\n",
       "      <td>2008</td>\n",
       "      <td>Delhi</td>\n",
       "      <td>19-04-2008</td>\n",
       "      <td>Rajasthan Royals</td>\n",
       "      <td>Delhi Daredevils</td>\n",
       "      <td>Rajasthan Royals</td>\n",
       "      <td>bat</td>\n",
       "      <td>normal</td>\n",
       "      <td>0</td>\n",
       "      <td>Delhi Daredevils</td>\n",
       "      <td>0</td>\n",
       "      <td>9</td>\n",
       "      <td>MF Maharoof</td>\n",
       "      <td>Feroz Shah Kotla</td>\n",
       "      <td>Aleem Dar</td>\n",
       "      <td>GA Pratapkumar</td>\n",
       "      <td>NaN</td>\n",
       "    </tr>\n",
       "    <tr>\n",
       "      <th>3</th>\n",
       "      <td>63</td>\n",
       "      <td>2008</td>\n",
       "      <td>Mumbai</td>\n",
       "      <td>20-04-2008</td>\n",
       "      <td>Mumbai Indians</td>\n",
       "      <td>Royal Challengers Bangalore</td>\n",
       "      <td>Mumbai Indians</td>\n",
       "      <td>bat</td>\n",
       "      <td>normal</td>\n",
       "      <td>0</td>\n",
       "      <td>Royal Challengers Bangalore</td>\n",
       "      <td>0</td>\n",
       "      <td>5</td>\n",
       "      <td>MV Boucher</td>\n",
       "      <td>Wankhede Stadium</td>\n",
       "      <td>SJ Davis</td>\n",
       "      <td>DJ Harper</td>\n",
       "      <td>NaN</td>\n",
       "    </tr>\n",
       "    <tr>\n",
       "      <th>4</th>\n",
       "      <td>64</td>\n",
       "      <td>2008</td>\n",
       "      <td>Kolkata</td>\n",
       "      <td>20-04-2008</td>\n",
       "      <td>Deccan Chargers</td>\n",
       "      <td>Kolkata Knight Riders</td>\n",
       "      <td>Deccan Chargers</td>\n",
       "      <td>bat</td>\n",
       "      <td>normal</td>\n",
       "      <td>0</td>\n",
       "      <td>Kolkata Knight Riders</td>\n",
       "      <td>0</td>\n",
       "      <td>5</td>\n",
       "      <td>DJ Hussey</td>\n",
       "      <td>Eden Gardens</td>\n",
       "      <td>BF Bowden</td>\n",
       "      <td>K Hariharan</td>\n",
       "      <td>NaN</td>\n",
       "    </tr>\n",
       "  </tbody>\n",
       "</table>\n",
       "</div>"
      ],
      "text/plain": [
       "   id  season        city        date                  team1  \\\n",
       "0  60    2008   Bangalore  18-04-2008  Kolkata Knight Riders   \n",
       "1  61    2008  Chandigarh  19-04-2008    Chennai Super Kings   \n",
       "2  62    2008       Delhi  19-04-2008       Rajasthan Royals   \n",
       "3  63    2008      Mumbai  20-04-2008         Mumbai Indians   \n",
       "4  64    2008     Kolkata  20-04-2008        Deccan Chargers   \n",
       "\n",
       "                         team2                  toss_winner toss_decision  \\\n",
       "0  Royal Challengers Bangalore  Royal Challengers Bangalore         field   \n",
       "1              Kings XI Punjab          Chennai Super Kings           bat   \n",
       "2             Delhi Daredevils             Rajasthan Royals           bat   \n",
       "3  Royal Challengers Bangalore               Mumbai Indians           bat   \n",
       "4        Kolkata Knight Riders              Deccan Chargers           bat   \n",
       "\n",
       "   result  dl_applied                       winner  win_by_runs  \\\n",
       "0  normal           0        Kolkata Knight Riders          140   \n",
       "1  normal           0          Chennai Super Kings           33   \n",
       "2  normal           0             Delhi Daredevils            0   \n",
       "3  normal           0  Royal Challengers Bangalore            0   \n",
       "4  normal           0        Kolkata Knight Riders            0   \n",
       "\n",
       "   win_by_wickets player_of_match                                       venue  \\\n",
       "0               0     BB McCullum                       M Chinnaswamy Stadium   \n",
       "1               0      MEK Hussey  Punjab Cricket Association Stadium, Mohali   \n",
       "2               9     MF Maharoof                            Feroz Shah Kotla   \n",
       "3               5      MV Boucher                            Wankhede Stadium   \n",
       "4               5       DJ Hussey                                Eden Gardens   \n",
       "\n",
       "     umpire1         umpire2 umpire3  \n",
       "0  Asad Rauf     RE Koertzen     NaN  \n",
       "1  MR Benson      SL Shastri     NaN  \n",
       "2  Aleem Dar  GA Pratapkumar     NaN  \n",
       "3   SJ Davis       DJ Harper     NaN  \n",
       "4  BF Bowden     K Hariharan     NaN  "
      ]
     },
     "execution_count": 2,
     "metadata": {},
     "output_type": "execute_result"
    }
   ],
   "source": [
    "train_data = pd.read_csv('/kaggle/input/winnerpredictionchallenge/Training Matches IPL 2008-2019.csv')\n",
    "train_data.head()"
   ]
  },
  {
   "cell_type": "code",
   "execution_count": 3,
   "metadata": {
    "execution": {
     "iopub.execute_input": "2021-01-01T13:00:21.106614Z",
     "iopub.status.busy": "2021-01-01T13:00:21.106025Z",
     "iopub.status.idle": "2021-01-01T13:00:21.110095Z",
     "shell.execute_reply": "2021-01-01T13:00:21.109503Z"
    },
    "papermill": {
     "duration": 0.026561,
     "end_time": "2021-01-01T13:00:21.110201",
     "exception": false,
     "start_time": "2021-01-01T13:00:21.083640",
     "status": "completed"
    },
    "tags": []
   },
   "outputs": [
    {
     "data": {
      "text/plain": [
       "id                   0\n",
       "season               0\n",
       "city                 7\n",
       "date                 0\n",
       "team1                0\n",
       "team2                0\n",
       "toss_winner          0\n",
       "toss_decision        0\n",
       "result               0\n",
       "dl_applied           0\n",
       "winner               4\n",
       "win_by_runs          0\n",
       "win_by_wickets       0\n",
       "player_of_match      4\n",
       "venue                0\n",
       "umpire1              2\n",
       "umpire2              2\n",
       "umpire3            637\n",
       "dtype: int64"
      ]
     },
     "execution_count": 3,
     "metadata": {},
     "output_type": "execute_result"
    }
   ],
   "source": [
    "#Check if any null values present in the dataset\n",
    "train_data.isnull().sum()"
   ]
  },
  {
   "cell_type": "code",
   "execution_count": 4,
   "metadata": {
    "execution": {
     "iopub.execute_input": "2021-01-01T13:00:21.148938Z",
     "iopub.status.busy": "2021-01-01T13:00:21.148096Z",
     "iopub.status.idle": "2021-01-01T13:00:21.150935Z",
     "shell.execute_reply": "2021-01-01T13:00:21.150457Z"
    },
    "papermill": {
     "duration": 0.024744,
     "end_time": "2021-01-01T13:00:21.151032",
     "exception": false,
     "start_time": "2021-01-01T13:00:21.126288",
     "status": "completed"
    },
    "tags": []
   },
   "outputs": [],
   "source": [
    "train_data['city'].fillna('Abu Dhabi',inplace=True)\n",
    "train_data['winner'].fillna('Draw', inplace = True)"
   ]
  },
  {
   "cell_type": "code",
   "execution_count": 5,
   "metadata": {
    "execution": {
     "iopub.execute_input": "2021-01-01T13:00:21.188825Z",
     "iopub.status.busy": "2021-01-01T13:00:21.187950Z",
     "iopub.status.idle": "2021-01-01T13:00:21.191390Z",
     "shell.execute_reply": "2021-01-01T13:00:21.191874Z"
    },
    "papermill": {
     "duration": 0.024942,
     "end_time": "2021-01-01T13:00:21.191999",
     "exception": false,
     "start_time": "2021-01-01T13:00:21.167057",
     "status": "completed"
    },
    "tags": []
   },
   "outputs": [
    {
     "data": {
      "text/plain": [
       "array(['Kolkata Knight Riders', 'Chennai Super Kings', 'Rajasthan Royals',\n",
       "       'Mumbai Indians', 'Deccan Chargers', 'Kings XI Punjab',\n",
       "       'Royal Challengers Bangalore', 'Delhi Daredevils',\n",
       "       'Kochi Tuskers Kerala', 'Pune Warriors', 'Sunrisers Hyderabad',\n",
       "       'Rising Pune Supergiants', 'Gujarat Lions',\n",
       "       'Rising Pune Supergiant', 'Delhi Capitals'], dtype=object)"
      ]
     },
     "execution_count": 5,
     "metadata": {},
     "output_type": "execute_result"
    }
   ],
   "source": [
    "train_data['team1'].unique()"
   ]
  },
  {
   "cell_type": "code",
   "execution_count": 6,
   "metadata": {
    "execution": {
     "iopub.execute_input": "2021-01-01T13:00:21.235853Z",
     "iopub.status.busy": "2021-01-01T13:00:21.235270Z",
     "iopub.status.idle": "2021-01-01T13:00:21.239829Z",
     "shell.execute_reply": "2021-01-01T13:00:21.240298Z"
    },
    "papermill": {
     "duration": 0.031975,
     "end_time": "2021-01-01T13:00:21.240435",
     "exception": false,
     "start_time": "2021-01-01T13:00:21.208460",
     "status": "completed"
    },
    "tags": []
   },
   "outputs": [],
   "source": [
    "#Both Rising Pue Supergiant and Rising Pune Supergiants represents same team similarly Delhi Capitals and Delhi Daredevils,\n",
    "#Deccan Chargers and Sunrisers Hyderabad\n",
    "train_data.replace(\"Rising Pune Supergiant\",\"Rising Pune Supergiants\", inplace=True)\n",
    "train_data.replace('Deccan Chargers', 'Sunrisers Hyderabad', inplace=True)\n",
    "train_data.replace('Delhi Daredevils', 'Delhi Capitals', inplace=True)"
   ]
  },
  {
   "cell_type": "markdown",
   "metadata": {
    "papermill": {
     "duration": 0.016402,
     "end_time": "2021-01-01T13:00:21.273697",
     "exception": false,
     "start_time": "2021-01-01T13:00:21.257295",
     "status": "completed"
    },
    "tags": []
   },
   "source": [
    "# Total number of matches played in each season"
   ]
  },
  {
   "cell_type": "code",
   "execution_count": 7,
   "metadata": {
    "execution": {
     "iopub.execute_input": "2021-01-01T13:00:21.310918Z",
     "iopub.status.busy": "2021-01-01T13:00:21.310320Z",
     "iopub.status.idle": "2021-01-01T13:00:21.515936Z",
     "shell.execute_reply": "2021-01-01T13:00:21.515375Z"
    },
    "papermill": {
     "duration": 0.224889,
     "end_time": "2021-01-01T13:00:21.516050",
     "exception": false,
     "start_time": "2021-01-01T13:00:21.291161",
     "status": "completed"
    },
    "tags": []
   },
   "outputs": [
    {
     "data": {
      "image/png": "[encoded data removed]",
      "text/plain": [
       "<Figure size 1080x360 with 1 Axes>"
      ]
     },
     "metadata": {
      "needs_background": "light"
     },
     "output_type": "display_data"
    }
   ],
   "source": [
    "plt.subplots(figsize = (15,5))\n",
    "sns.countplot(x = 'season' , data = train_data, palette='dark')\n",
    "plt.title('Total number of matches played in each season')\n",
    "plt.show()"
   ]
  },
  {
   "cell_type": "markdown",
   "metadata": {
    "papermill": {
     "duration": 0.017144,
     "end_time": "2021-01-01T13:00:21.550881",
     "exception": false,
     "start_time": "2021-01-01T13:00:21.533737",
     "status": "completed"
    },
    "tags": []
   },
   "source": [
    "# Total number of matched won by each team"
   ]
  },
  {
   "cell_type": "code",
   "execution_count": 8,
   "metadata": {
    "execution": {
     "iopub.execute_input": "2021-01-01T13:00:21.594629Z",
     "iopub.status.busy": "2021-01-01T13:00:21.590507Z",
     "iopub.status.idle": "2021-01-01T13:00:21.790144Z",
     "shell.execute_reply": "2021-01-01T13:00:21.789487Z"
    },
    "papermill": {
     "duration": 0.222032,
     "end_time": "2021-01-01T13:00:21.790264",
     "exception": false,
     "start_time": "2021-01-01T13:00:21.568232",
     "status": "completed"
    },
    "tags": []
   },
   "outputs": [
    {
     "data": {
      "image/png": "[encoded data removed]",
      "text/plain": [
       "<Figure size 1080x720 with 1 Axes>"
      ]
     },
     "metadata": {
      "needs_background": "light"
     },
     "output_type": "display_data"
    }
   ],
   "source": [
    "plt.subplots(figsize=(15,10))\n",
    "ax = train_data['winner'].value_counts().sort_values(ascending=True).plot.barh(width=.9,color=sns.color_palette(\"husl\", 9))\n",
    "ax.set_xlabel('count')\n",
    "ax.set_ylabel('team')\n",
    "plt.show()"
   ]
  },
  {
   "cell_type": "markdown",
   "metadata": {
    "papermill": {
     "duration": 0.017998,
     "end_time": "2021-01-01T13:00:21.826949",
     "exception": false,
     "start_time": "2021-01-01T13:00:21.808951",
     "status": "completed"
    },
    "tags": []
   },
   "source": [
    "# Total number of matches won at each venue"
   ]
  },
  {
   "cell_type": "code",
   "execution_count": 9,
   "metadata": {
    "execution": {
     "iopub.execute_input": "2021-01-01T13:00:21.876164Z",
     "iopub.status.busy": "2021-01-01T13:00:21.875469Z",
     "iopub.status.idle": "2021-01-01T13:00:22.359671Z",
     "shell.execute_reply": "2021-01-01T13:00:22.359178Z"
    },
    "papermill": {
     "duration": 0.514458,
     "end_time": "2021-01-01T13:00:22.359777",
     "exception": false,
     "start_time": "2021-01-01T13:00:21.845319",
     "status": "completed"
    },
    "tags": []
   },
   "outputs": [
    {
     "data": {
      "image/png": "[encoded data removed]",
      "text/plain": [
       "<Figure size 1080x1080 with 1 Axes>"
      ]
     },
     "metadata": {
      "needs_background": "light"
     },
     "output_type": "display_data"
    }
   ],
   "source": [
    "plt.subplots(figsize=(15,15))\n",
    "ax = train_data['venue'].value_counts().sort_values(ascending=True).plot.barh(width=.9,color=sns.color_palette(\"Paired\", 10))\n",
    "ax.set_xlabel('count')\n",
    "ax.set_ylabel('venue')\n",
    "plt.title('Number of matches won in each venue')\n",
    "plt.show()"
   ]
  },
  {
   "cell_type": "markdown",
   "metadata": {
    "papermill": {
     "duration": 0.020697,
     "end_time": "2021-01-01T13:00:22.401207",
     "exception": false,
     "start_time": "2021-01-01T13:00:22.380510",
     "status": "completed"
    },
    "tags": []
   },
   "source": [
    "# Chance of winning both toss and match"
   ]
  },
  {
   "cell_type": "code",
   "execution_count": 10,
   "metadata": {
    "execution": {
     "iopub.execute_input": "2021-01-01T13:00:22.465206Z",
     "iopub.status.busy": "2021-01-01T13:00:22.456197Z",
     "iopub.status.idle": "2021-01-01T13:00:22.502377Z",
     "shell.execute_reply": "2021-01-01T13:00:22.502797Z"
    },
    "papermill": {
     "duration": 0.080579,
     "end_time": "2021-01-01T13:00:22.502966",
     "exception": false,
     "start_time": "2021-01-01T13:00:22.422387",
     "status": "completed"
    },
    "tags": []
   },
   "outputs": [
    {
     "data": {
      "image/png": "[encoded data removed]",
      "text/plain": [
       "<Figure size 360x360 with 1 Axes>"
      ]
     },
     "metadata": {},
     "output_type": "display_data"
    }
   ],
   "source": [
    "df = train_data[train_data['toss_winner']==train_data['winner']]\n",
    "ratio = [len(df), (len(train_data)-len(df))]\n",
    "labels = ['yes', 'no']\n",
    "plt.pie(ratio, labels=labels, colors=['y', 'c'], autopct='%1.1f%%', shadow=True, startangle=90)\n",
    "fig = plt.gcf()\n",
    "fig.set_size_inches(5,5)\n",
    "plt.title(\"Toss winner and  match winner\")\n",
    "plt.show()"
   ]
  },
  {
   "cell_type": "markdown",
   "metadata": {
    "papermill": {
     "duration": 0.021018,
     "end_time": "2021-01-01T13:00:22.545505",
     "exception": false,
     "start_time": "2021-01-01T13:00:22.524487",
     "status": "completed"
    },
    "tags": []
   },
   "source": [
    "# Total number of matches won at each city"
   ]
  },
  {
   "cell_type": "code",
   "execution_count": 11,
   "metadata": {
    "execution": {
     "iopub.execute_input": "2021-01-01T13:00:22.599356Z",
     "iopub.status.busy": "2021-01-01T13:00:22.598734Z",
     "iopub.status.idle": "2021-01-01T13:00:22.875592Z",
     "shell.execute_reply": "2021-01-01T13:00:22.874994Z"
    },
    "papermill": {
     "duration": 0.308564,
     "end_time": "2021-01-01T13:00:22.875710",
     "exception": false,
     "start_time": "2021-01-01T13:00:22.567146",
     "status": "completed"
    },
    "tags": []
   },
   "outputs": [
    {
     "data": {
      "image/png": "[encoded data removed]",
      "text/plain": [
       "<Figure size 1080x1080 with 1 Axes>"
      ]
     },
     "metadata": {
      "needs_background": "light"
     },
     "output_type": "display_data"
    }
   ],
   "source": [
    "plt.subplots(figsize=(15,15))\n",
    "ax = train_data['city'].value_counts().sort_values(ascending=True).plot.barh(width=.9,color = sns.color_palette(\"husl\", 9))\n",
    "ax.set_xlabel('count')\n",
    "ax.set_ylabel('city')\n",
    "plt.title('Number of matches won at each city')\n",
    "plt.show()"
   ]
  },
  {
   "cell_type": "code",
   "execution_count": 12,
   "metadata": {
    "execution": {
     "iopub.execute_input": "2021-01-01T13:00:22.936938Z",
     "iopub.status.busy": "2021-01-01T13:00:22.935961Z",
     "iopub.status.idle": "2021-01-01T13:00:22.969522Z",
     "shell.execute_reply": "2021-01-01T13:00:22.968951Z"
    },
    "papermill": {
     "duration": 0.071335,
     "end_time": "2021-01-01T13:00:22.969626",
     "exception": false,
     "start_time": "2021-01-01T13:00:22.898291",
     "status": "completed"
    },
    "tags": []
   },
   "outputs": [
    {
     "data": {
      "text/html": [
       "<div>\n",
       "<style scoped>\n",
       "    .dataframe tbody tr th:only-of-type {\n",
       "        vertical-align: middle;\n",
       "    }\n",
       "\n",
       "    .dataframe tbody tr th {\n",
       "        vertical-align: top;\n",
       "    }\n",
       "\n",
       "    .dataframe thead th {\n",
       "        text-align: right;\n",
       "    }\n",
       "</style>\n",
       "<table border=\"1\" class=\"dataframe\">\n",
       "  <thead>\n",
       "    <tr style=\"text-align: right;\">\n",
       "      <th></th>\n",
       "      <th>id</th>\n",
       "      <th>season</th>\n",
       "      <th>city</th>\n",
       "      <th>date</th>\n",
       "      <th>team1</th>\n",
       "      <th>team2</th>\n",
       "      <th>toss_winner</th>\n",
       "      <th>toss_decision</th>\n",
       "      <th>result</th>\n",
       "      <th>dl_applied</th>\n",
       "      <th>winner</th>\n",
       "      <th>win_by_runs</th>\n",
       "      <th>win_by_wickets</th>\n",
       "      <th>player_of_match</th>\n",
       "      <th>venue</th>\n",
       "      <th>umpire1</th>\n",
       "      <th>umpire2</th>\n",
       "      <th>umpire3</th>\n",
       "    </tr>\n",
       "  </thead>\n",
       "  <tbody>\n",
       "    <tr>\n",
       "      <th>0</th>\n",
       "      <td>60</td>\n",
       "      <td>2008</td>\n",
       "      <td>Bangalore</td>\n",
       "      <td>18-04-2008</td>\n",
       "      <td>1</td>\n",
       "      <td>7</td>\n",
       "      <td>7</td>\n",
       "      <td>field</td>\n",
       "      <td>normal</td>\n",
       "      <td>0</td>\n",
       "      <td>1</td>\n",
       "      <td>140</td>\n",
       "      <td>0</td>\n",
       "      <td>BB McCullum</td>\n",
       "      <td>M Chinnaswamy Stadium</td>\n",
       "      <td>Asad Rauf</td>\n",
       "      <td>RE Koertzen</td>\n",
       "      <td>NaN</td>\n",
       "    </tr>\n",
       "    <tr>\n",
       "      <th>1</th>\n",
       "      <td>61</td>\n",
       "      <td>2008</td>\n",
       "      <td>Chandigarh</td>\n",
       "      <td>19-04-2008</td>\n",
       "      <td>2</td>\n",
       "      <td>6</td>\n",
       "      <td>2</td>\n",
       "      <td>bat</td>\n",
       "      <td>normal</td>\n",
       "      <td>0</td>\n",
       "      <td>2</td>\n",
       "      <td>33</td>\n",
       "      <td>0</td>\n",
       "      <td>MEK Hussey</td>\n",
       "      <td>Punjab Cricket Association Stadium, Mohali</td>\n",
       "      <td>MR Benson</td>\n",
       "      <td>SL Shastri</td>\n",
       "      <td>NaN</td>\n",
       "    </tr>\n",
       "    <tr>\n",
       "      <th>2</th>\n",
       "      <td>62</td>\n",
       "      <td>2008</td>\n",
       "      <td>Delhi</td>\n",
       "      <td>19-04-2008</td>\n",
       "      <td>3</td>\n",
       "      <td>8</td>\n",
       "      <td>3</td>\n",
       "      <td>bat</td>\n",
       "      <td>normal</td>\n",
       "      <td>0</td>\n",
       "      <td>8</td>\n",
       "      <td>0</td>\n",
       "      <td>9</td>\n",
       "      <td>MF Maharoof</td>\n",
       "      <td>Feroz Shah Kotla</td>\n",
       "      <td>Aleem Dar</td>\n",
       "      <td>GA Pratapkumar</td>\n",
       "      <td>NaN</td>\n",
       "    </tr>\n",
       "    <tr>\n",
       "      <th>3</th>\n",
       "      <td>63</td>\n",
       "      <td>2008</td>\n",
       "      <td>Mumbai</td>\n",
       "      <td>20-04-2008</td>\n",
       "      <td>4</td>\n",
       "      <td>7</td>\n",
       "      <td>4</td>\n",
       "      <td>bat</td>\n",
       "      <td>normal</td>\n",
       "      <td>0</td>\n",
       "      <td>7</td>\n",
       "      <td>0</td>\n",
       "      <td>5</td>\n",
       "      <td>MV Boucher</td>\n",
       "      <td>Wankhede Stadium</td>\n",
       "      <td>SJ Davis</td>\n",
       "      <td>DJ Harper</td>\n",
       "      <td>NaN</td>\n",
       "    </tr>\n",
       "    <tr>\n",
       "      <th>4</th>\n",
       "      <td>64</td>\n",
       "      <td>2008</td>\n",
       "      <td>Kolkata</td>\n",
       "      <td>20-04-2008</td>\n",
       "      <td>5</td>\n",
       "      <td>1</td>\n",
       "      <td>5</td>\n",
       "      <td>bat</td>\n",
       "      <td>normal</td>\n",
       "      <td>0</td>\n",
       "      <td>1</td>\n",
       "      <td>0</td>\n",
       "      <td>5</td>\n",
       "      <td>DJ Hussey</td>\n",
       "      <td>Eden Gardens</td>\n",
       "      <td>BF Bowden</td>\n",
       "      <td>K Hariharan</td>\n",
       "      <td>NaN</td>\n",
       "    </tr>\n",
       "  </tbody>\n",
       "</table>\n",
       "</div>"
      ],
      "text/plain": [
       "   id  season        city        date  team1  team2  toss_winner  \\\n",
       "0  60    2008   Bangalore  18-04-2008      1      7            7   \n",
       "1  61    2008  Chandigarh  19-04-2008      2      6            2   \n",
       "2  62    2008       Delhi  19-04-2008      3      8            3   \n",
       "3  63    2008      Mumbai  20-04-2008      4      7            4   \n",
       "4  64    2008     Kolkata  20-04-2008      5      1            5   \n",
       "\n",
       "  toss_decision  result  dl_applied  winner  win_by_runs  win_by_wickets  \\\n",
       "0         field  normal           0       1          140               0   \n",
       "1           bat  normal           0       2           33               0   \n",
       "2           bat  normal           0       8            0               9   \n",
       "3           bat  normal           0       7            0               5   \n",
       "4           bat  normal           0       1            0               5   \n",
       "\n",
       "  player_of_match                                       venue    umpire1  \\\n",
       "0     BB McCullum                       M Chinnaswamy Stadium  Asad Rauf   \n",
       "1      MEK Hussey  Punjab Cricket Association Stadium, Mohali  MR Benson   \n",
       "2     MF Maharoof                            Feroz Shah Kotla  Aleem Dar   \n",
       "3      MV Boucher                            Wankhede Stadium   SJ Davis   \n",
       "4       DJ Hussey                                Eden Gardens  BF Bowden   \n",
       "\n",
       "          umpire2 umpire3  \n",
       "0     RE Koertzen     NaN  \n",
       "1      SL Shastri     NaN  \n",
       "2  GA Pratapkumar     NaN  \n",
       "3       DJ Harper     NaN  \n",
       "4     K Hariharan     NaN  "
      ]
     },
     "execution_count": 12,
     "metadata": {},
     "output_type": "execute_result"
    }
   ],
   "source": [
    "train_data.replace({\"Mumbai Indians\":\"MI\", \"Delhi Capitals\":\"DC\", \n",
    "               \"Sunrisers Hyderabad\":\"SRH\", \"Rajasthan Royals\":\"RR\", \n",
    "               \"Kolkata Knight Riders\":\"KKR\", \"Kings XI Punjab\":\"KXIP\", \n",
    "               \"Chennai Super Kings\":\"CSK\", \"Royal Challengers Bangalore\":\"RCB\",\n",
    "              \"Kochi Tuskers Kerala\":\"KTK\", \"Rising Pune Supergiants\":\"RPS\",\n",
    "              \"Gujarat Lions\":\"GL\", \"Pune Warriors\":\"PW\"}, inplace=True)\n",
    "\n",
    "\n",
    "encode = {'team1': {'KKR':1,'CSK':2,'RR':3,'MI':4,'SRH':5,'KXIP':6,'RCB':7,'DC':8,'KTK':9,'RPS':10,'GL':11,'PW':12},\n",
    "         'team2': {'KKR':1,'CSK':2,'RR':3,'MI':4,'SRH':5,'KXIP':6,'RCB':7,'DC':8,'KTK':9,'RPS':10,'GL':11,'PW':12},\n",
    "         'toss_winner': {'KKR':1,'CSK':2,'RR':3,'MI':4,'SRH':5,'KXIP':6,'RCB':7,'DC':8,'KTK':9,'RPS':10,'GL':11,'PW':12},\n",
    "          'winner': {'KKR':1,'CSK':2,'RR':3,'MI':4,'SRH':5,'KXIP':6,'RCB':7,'DC':8,'KTK':9,'RPS':10,'GL':11,'PW':12,'Draw':13}}\n",
    "train_data.replace(encode, inplace=True)\n",
    "train_data.head(5)"
   ]
  },
  {
   "cell_type": "code",
   "execution_count": 13,
   "metadata": {
    "execution": {
     "iopub.execute_input": "2021-01-01T13:00:23.023126Z",
     "iopub.status.busy": "2021-01-01T13:00:23.022332Z",
     "iopub.status.idle": "2021-01-01T13:00:23.026496Z",
     "shell.execute_reply": "2021-01-01T13:00:23.026008Z"
    },
    "papermill": {
     "duration": 0.032041,
     "end_time": "2021-01-01T13:00:23.026599",
     "exception": false,
     "start_time": "2021-01-01T13:00:22.994558",
     "status": "completed"
    },
    "tags": []
   },
   "outputs": [
    {
     "data": {
      "text/plain": [
       "array([ 1,  2,  3,  4,  5,  6,  7,  8,  9, 12, 10, 11])"
      ]
     },
     "execution_count": 13,
     "metadata": {},
     "output_type": "execute_result"
    }
   ],
   "source": [
    "train_data['team1'].unique()"
   ]
  },
  {
   "cell_type": "code",
   "execution_count": 14,
   "metadata": {
    "execution": {
     "iopub.execute_input": "2021-01-01T13:00:23.081102Z",
     "iopub.status.busy": "2021-01-01T13:00:23.080491Z",
     "iopub.status.idle": "2021-01-01T13:00:23.110641Z",
     "shell.execute_reply": "2021-01-01T13:00:23.109706Z"
    },
    "papermill": {
     "duration": 0.060687,
     "end_time": "2021-01-01T13:00:23.110762",
     "exception": false,
     "start_time": "2021-01-01T13:00:23.050075",
     "status": "completed"
    },
    "tags": []
   },
   "outputs": [
    {
     "data": {
      "text/html": [
       "<div>\n",
       "<style scoped>\n",
       "    .dataframe tbody tr th:only-of-type {\n",
       "        vertical-align: middle;\n",
       "    }\n",
       "\n",
       "    .dataframe tbody tr th {\n",
       "        vertical-align: top;\n",
       "    }\n",
       "\n",
       "    .dataframe thead th {\n",
       "        text-align: right;\n",
       "    }\n",
       "</style>\n",
       "<table border=\"1\" class=\"dataframe\">\n",
       "  <thead>\n",
       "    <tr style=\"text-align: right;\">\n",
       "      <th></th>\n",
       "      <th>id</th>\n",
       "      <th>season</th>\n",
       "      <th>team1</th>\n",
       "      <th>team2</th>\n",
       "      <th>toss_winner</th>\n",
       "      <th>dl_applied</th>\n",
       "      <th>winner</th>\n",
       "      <th>win_by_runs</th>\n",
       "      <th>win_by_wickets</th>\n",
       "    </tr>\n",
       "  </thead>\n",
       "  <tbody>\n",
       "    <tr>\n",
       "      <th>count</th>\n",
       "      <td>756.000000</td>\n",
       "      <td>756.000000</td>\n",
       "      <td>756.000000</td>\n",
       "      <td>756.000000</td>\n",
       "      <td>756.000000</td>\n",
       "      <td>756.000000</td>\n",
       "      <td>756.000000</td>\n",
       "      <td>756.000000</td>\n",
       "      <td>756.000000</td>\n",
       "    </tr>\n",
       "    <tr>\n",
       "      <th>mean</th>\n",
       "      <td>1792.178571</td>\n",
       "      <td>2013.444444</td>\n",
       "      <td>4.984127</td>\n",
       "      <td>5.134921</td>\n",
       "      <td>4.929894</td>\n",
       "      <td>0.025132</td>\n",
       "      <td>4.797619</td>\n",
       "      <td>13.283069</td>\n",
       "      <td>3.350529</td>\n",
       "    </tr>\n",
       "    <tr>\n",
       "      <th>std</th>\n",
       "      <td>3464.478148</td>\n",
       "      <td>3.366895</td>\n",
       "      <td>2.723897</td>\n",
       "      <td>2.884128</td>\n",
       "      <td>2.789594</td>\n",
       "      <td>0.156630</td>\n",
       "      <td>2.734144</td>\n",
       "      <td>23.471144</td>\n",
       "      <td>3.387963</td>\n",
       "    </tr>\n",
       "    <tr>\n",
       "      <th>min</th>\n",
       "      <td>1.000000</td>\n",
       "      <td>2008.000000</td>\n",
       "      <td>1.000000</td>\n",
       "      <td>1.000000</td>\n",
       "      <td>1.000000</td>\n",
       "      <td>0.000000</td>\n",
       "      <td>1.000000</td>\n",
       "      <td>0.000000</td>\n",
       "      <td>0.000000</td>\n",
       "    </tr>\n",
       "    <tr>\n",
       "      <th>25%</th>\n",
       "      <td>189.750000</td>\n",
       "      <td>2011.000000</td>\n",
       "      <td>3.000000</td>\n",
       "      <td>3.000000</td>\n",
       "      <td>3.000000</td>\n",
       "      <td>0.000000</td>\n",
       "      <td>2.000000</td>\n",
       "      <td>0.000000</td>\n",
       "      <td>0.000000</td>\n",
       "    </tr>\n",
       "    <tr>\n",
       "      <th>50%</th>\n",
       "      <td>378.500000</td>\n",
       "      <td>2013.000000</td>\n",
       "      <td>5.000000</td>\n",
       "      <td>5.000000</td>\n",
       "      <td>5.000000</td>\n",
       "      <td>0.000000</td>\n",
       "      <td>5.000000</td>\n",
       "      <td>0.000000</td>\n",
       "      <td>4.000000</td>\n",
       "    </tr>\n",
       "    <tr>\n",
       "      <th>75%</th>\n",
       "      <td>567.250000</td>\n",
       "      <td>2016.000000</td>\n",
       "      <td>7.000000</td>\n",
       "      <td>7.000000</td>\n",
       "      <td>7.000000</td>\n",
       "      <td>0.000000</td>\n",
       "      <td>7.000000</td>\n",
       "      <td>19.000000</td>\n",
       "      <td>6.000000</td>\n",
       "    </tr>\n",
       "    <tr>\n",
       "      <th>max</th>\n",
       "      <td>11415.000000</td>\n",
       "      <td>2019.000000</td>\n",
       "      <td>12.000000</td>\n",
       "      <td>12.000000</td>\n",
       "      <td>12.000000</td>\n",
       "      <td>1.000000</td>\n",
       "      <td>13.000000</td>\n",
       "      <td>146.000000</td>\n",
       "      <td>10.000000</td>\n",
       "    </tr>\n",
       "  </tbody>\n",
       "</table>\n",
       "</div>"
      ],
      "text/plain": [
       "                 id       season       team1       team2  toss_winner  \\\n",
       "count    756.000000   756.000000  756.000000  756.000000   756.000000   \n",
       "mean    1792.178571  2013.444444    4.984127    5.134921     4.929894   \n",
       "std     3464.478148     3.366895    2.723897    2.884128     2.789594   \n",
       "min        1.000000  2008.000000    1.000000    1.000000     1.000000   \n",
       "25%      189.750000  2011.000000    3.000000    3.000000     3.000000   \n",
       "50%      378.500000  2013.000000    5.000000    5.000000     5.000000   \n",
       "75%      567.250000  2016.000000    7.000000    7.000000     7.000000   \n",
       "max    11415.000000  2019.000000   12.000000   12.000000    12.000000   \n",
       "\n",
       "       dl_applied      winner  win_by_runs  win_by_wickets  \n",
       "count  756.000000  756.000000   756.000000      756.000000  \n",
       "mean     0.025132    4.797619    13.283069        3.350529  \n",
       "std      0.156630    2.734144    23.471144        3.387963  \n",
       "min      0.000000    1.000000     0.000000        0.000000  \n",
       "25%      0.000000    2.000000     0.000000        0.000000  \n",
       "50%      0.000000    5.000000     0.000000        4.000000  \n",
       "75%      0.000000    7.000000    19.000000        6.000000  \n",
       "max      1.000000   13.000000   146.000000       10.000000  "
      ]
     },
     "execution_count": 14,
     "metadata": {},
     "output_type": "execute_result"
    }
   ],
   "source": [
    "dicVal = encode['winner']\n",
    "train_data.describe()"
   ]
  },
  {
   "cell_type": "code",
   "execution_count": 15,
   "metadata": {
    "execution": {
     "iopub.execute_input": "2021-01-01T13:00:23.168043Z",
     "iopub.status.busy": "2021-01-01T13:00:23.167451Z",
     "iopub.status.idle": "2021-01-01T13:00:23.175388Z",
     "shell.execute_reply": "2021-01-01T13:00:23.175839Z"
    },
    "papermill": {
     "duration": 0.040659,
     "end_time": "2021-01-01T13:00:23.175973",
     "exception": false,
     "start_time": "2021-01-01T13:00:23.135314",
     "status": "completed"
    },
    "tags": []
   },
   "outputs": [
    {
     "data": {
      "text/html": [
       "<div>\n",
       "<style scoped>\n",
       "    .dataframe tbody tr th:only-of-type {\n",
       "        vertical-align: middle;\n",
       "    }\n",
       "\n",
       "    .dataframe tbody tr th {\n",
       "        vertical-align: top;\n",
       "    }\n",
       "\n",
       "    .dataframe thead th {\n",
       "        text-align: right;\n",
       "    }\n",
       "</style>\n",
       "<table border=\"1\" class=\"dataframe\">\n",
       "  <thead>\n",
       "    <tr style=\"text-align: right;\">\n",
       "      <th></th>\n",
       "      <th>team1</th>\n",
       "      <th>team2</th>\n",
       "      <th>city</th>\n",
       "      <th>toss_decision</th>\n",
       "      <th>toss_winner</th>\n",
       "      <th>venue</th>\n",
       "      <th>winner</th>\n",
       "    </tr>\n",
       "  </thead>\n",
       "  <tbody>\n",
       "    <tr>\n",
       "      <th>0</th>\n",
       "      <td>1</td>\n",
       "      <td>7</td>\n",
       "      <td>Bangalore</td>\n",
       "      <td>field</td>\n",
       "      <td>7</td>\n",
       "      <td>M Chinnaswamy Stadium</td>\n",
       "      <td>1</td>\n",
       "    </tr>\n",
       "    <tr>\n",
       "      <th>1</th>\n",
       "      <td>2</td>\n",
       "      <td>6</td>\n",
       "      <td>Chandigarh</td>\n",
       "      <td>bat</td>\n",
       "      <td>2</td>\n",
       "      <td>Punjab Cricket Association Stadium, Mohali</td>\n",
       "      <td>2</td>\n",
       "    </tr>\n",
       "    <tr>\n",
       "      <th>2</th>\n",
       "      <td>3</td>\n",
       "      <td>8</td>\n",
       "      <td>Delhi</td>\n",
       "      <td>bat</td>\n",
       "      <td>3</td>\n",
       "      <td>Feroz Shah Kotla</td>\n",
       "      <td>8</td>\n",
       "    </tr>\n",
       "    <tr>\n",
       "      <th>3</th>\n",
       "      <td>4</td>\n",
       "      <td>7</td>\n",
       "      <td>Mumbai</td>\n",
       "      <td>bat</td>\n",
       "      <td>4</td>\n",
       "      <td>Wankhede Stadium</td>\n",
       "      <td>7</td>\n",
       "    </tr>\n",
       "    <tr>\n",
       "      <th>4</th>\n",
       "      <td>5</td>\n",
       "      <td>1</td>\n",
       "      <td>Kolkata</td>\n",
       "      <td>bat</td>\n",
       "      <td>5</td>\n",
       "      <td>Eden Gardens</td>\n",
       "      <td>1</td>\n",
       "    </tr>\n",
       "  </tbody>\n",
       "</table>\n",
       "</div>"
      ],
      "text/plain": [
       "   team1  team2        city toss_decision  toss_winner  \\\n",
       "0      1      7   Bangalore         field            7   \n",
       "1      2      6  Chandigarh           bat            2   \n",
       "2      3      8       Delhi           bat            3   \n",
       "3      4      7      Mumbai           bat            4   \n",
       "4      5      1     Kolkata           bat            5   \n",
       "\n",
       "                                        venue  winner  \n",
       "0                       M Chinnaswamy Stadium       1  \n",
       "1  Punjab Cricket Association Stadium, Mohali       2  \n",
       "2                            Feroz Shah Kotla       8  \n",
       "3                            Wankhede Stadium       7  \n",
       "4                                Eden Gardens       1  "
      ]
     },
     "execution_count": 15,
     "metadata": {},
     "output_type": "execute_result"
    }
   ],
   "source": [
    "train = train_data[['team1','team2','city','toss_decision','toss_winner','venue','winner']]\n",
    "train.head(5)"
   ]
  },
  {
   "cell_type": "code",
   "execution_count": 16,
   "metadata": {
    "execution": {
     "iopub.execute_input": "2021-01-01T13:00:23.230704Z",
     "iopub.status.busy": "2021-01-01T13:00:23.230106Z",
     "iopub.status.idle": "2021-01-01T13:00:23.232756Z",
     "shell.execute_reply": "2021-01-01T13:00:23.233297Z"
    },
    "papermill": {
     "duration": 0.033089,
     "end_time": "2021-01-01T13:00:23.233427",
     "exception": false,
     "start_time": "2021-01-01T13:00:23.200338",
     "status": "completed"
    },
    "tags": []
   },
   "outputs": [
    {
     "data": {
      "text/plain": [
       "team1             int64\n",
       "team2             int64\n",
       "city             object\n",
       "toss_decision    object\n",
       "toss_winner       int64\n",
       "venue            object\n",
       "winner            int64\n",
       "dtype: object"
      ]
     },
     "execution_count": 16,
     "metadata": {},
     "output_type": "execute_result"
    }
   ],
   "source": [
    "df = pd.DataFrame(train)\n",
    "df.dtypes"
   ]
  },
  {
   "cell_type": "code",
   "execution_count": 17,
   "metadata": {
    "execution": {
     "iopub.execute_input": "2021-01-01T13:00:23.286572Z",
     "iopub.status.busy": "2021-01-01T13:00:23.285961Z",
     "iopub.status.idle": "2021-01-01T13:00:23.296790Z",
     "shell.execute_reply": "2021-01-01T13:00:23.296344Z"
    },
    "papermill": {
     "duration": 0.038582,
     "end_time": "2021-01-01T13:00:23.296949",
     "exception": false,
     "start_time": "2021-01-01T13:00:23.258367",
     "status": "completed"
    },
    "tags": []
   },
   "outputs": [
    {
     "data": {
      "text/plain": [
       "team1            int64\n",
       "team2            int64\n",
       "city             int64\n",
       "toss_decision    int64\n",
       "toss_winner      int64\n",
       "venue            int64\n",
       "winner           int64\n",
       "dtype: object"
      ]
     },
     "execution_count": 17,
     "metadata": {},
     "output_type": "execute_result"
    }
   ],
   "source": [
    "var_mod = ['city','toss_decision','venue']\n",
    "le = LabelEncoder()\n",
    "for i in var_mod:\n",
    "    df[i] = le.fit_transform(df[i])\n",
    "df.dtypes"
   ]
  },
  {
   "cell_type": "code",
   "execution_count": 18,
   "metadata": {
    "execution": {
     "iopub.execute_input": "2021-01-01T13:00:23.354596Z",
     "iopub.status.busy": "2021-01-01T13:00:23.351970Z",
     "iopub.status.idle": "2021-01-01T13:00:23.695473Z",
     "shell.execute_reply": "2021-01-01T13:00:23.696020Z"
    },
    "papermill": {
     "duration": 0.373745,
     "end_time": "2021-01-01T13:00:23.696153",
     "exception": false,
     "start_time": "2021-01-01T13:00:23.322408",
     "status": "completed"
    },
    "tags": []
   },
   "outputs": [
    {
     "data": {
      "text/plain": [
       "<matplotlib.axes._subplots.AxesSubplot at 0x7f8f7eed8cd0>"
      ]
     },
     "execution_count": 18,
     "metadata": {},
     "output_type": "execute_result"
    },
    {
     "data": {
      "image/png": "[encoded data removed]",
      "text/plain": [
       "<Figure size 432x288 with 2 Axes>"
      ]
     },
     "metadata": {
      "needs_background": "light"
     },
     "output_type": "display_data"
    }
   ],
   "source": [
    "sns.heatmap(df.corr(), annot=True)"
   ]
  },
  {
   "cell_type": "code",
   "execution_count": 19,
   "metadata": {
    "execution": {
     "iopub.execute_input": "2021-01-01T13:00:23.753165Z",
     "iopub.status.busy": "2021-01-01T13:00:23.752594Z",
     "iopub.status.idle": "2021-01-01T13:00:23.761735Z",
     "shell.execute_reply": "2021-01-01T13:00:23.762314Z"
    },
    "papermill": {
     "duration": 0.03937,
     "end_time": "2021-01-01T13:00:23.762462",
     "exception": false,
     "start_time": "2021-01-01T13:00:23.723092",
     "status": "completed"
    },
    "tags": []
   },
   "outputs": [],
   "source": [
    "X = df[['team1', 'team2', 'venue']]\n",
    "y = df[['winner']]\n",
    "sc = StandardScaler()\n",
    "X = sc.fit_transform(X)"
   ]
  },
  {
   "cell_type": "code",
   "execution_count": 20,
   "metadata": {
    "execution": {
     "iopub.execute_input": "2021-01-01T13:00:23.819389Z",
     "iopub.status.busy": "2021-01-01T13:00:23.818838Z",
     "iopub.status.idle": "2021-01-01T13:00:25.617313Z",
     "shell.execute_reply": "2021-01-01T13:00:25.617964Z"
    },
    "papermill": {
     "duration": 1.828735,
     "end_time": "2021-01-01T13:00:25.618146",
     "exception": false,
     "start_time": "2021-01-01T13:00:23.789411",
     "status": "completed"
    },
    "tags": []
   },
   "outputs": [
    {
     "name": "stdout",
     "output_type": "stream",
     "text": [
      "Logistic Regression accuracy:  25.264550264550266\n",
      "Random Forest accuracy:  81.48148148148148\n",
      "XGB accuracy:  81.34920634920636\n",
      "KNeighbor Classifier accuracy 61.50793650793651\n",
      "Gaussion Navie Bayis accuracy:  34.78835978835979\n",
      "Decision Tree Classifier accuracy:  81.48148148148148\n",
      "SVM accuracy:  50.132275132275126\n"
     ]
    }
   ],
   "source": [
    "logistic_model = LogisticRegression()\n",
    "logistic_model.fit(X,y)\n",
    "print(\"Logistic Regression accuracy: \",(logistic_model.score(X,y))*100)\n",
    "Random_model = RandomForestClassifier()\n",
    "Random_model.fit(X,y)\n",
    "print(\"Random Forest accuracy: \", (Random_model.score(X,y))*100)\n",
    "xgb_model = XGBClassifier(n_estimators=390, learning_rate=0.1)\n",
    "xgb_model.fit(X,y)\n",
    "print(\"XGB accuracy: \", (xgb_model.score(X,y))*100)\n",
    "knn_model = KNeighborsClassifier()\n",
    "knn_model.fit(X,y)\n",
    "print(\"KNeighbor Classifier accuracy\", (knn_model.score(X,y))*100)\n",
    "NB_model = GaussianNB()\n",
    "NB_model.fit(X,y)\n",
    "print(\"Gaussion Navie Bayis accuracy: \" ,(NB_model.score(X,y))*100)\n",
    "decision_model = DecisionTreeClassifier()\n",
    "decision_model.fit(X,y)\n",
    "print(\"Decision Tree Classifier accuracy: \", (decision_model.score(X,y))*100)\n",
    "svm_model=SVC()\n",
    "svm_model.fit(X,y)\n",
    "print(\"SVM accuracy: \", (svm_model.score(X,y))*100)"
   ]
  },
  {
   "cell_type": "code",
   "execution_count": 21,
   "metadata": {
    "execution": {
     "iopub.execute_input": "2021-01-01T13:00:25.700840Z",
     "iopub.status.busy": "2021-01-01T13:00:25.700257Z",
     "iopub.status.idle": "2021-01-01T13:00:25.722652Z",
     "shell.execute_reply": "2021-01-01T13:00:25.722156Z"
    },
    "papermill": {
     "duration": 0.062357,
     "end_time": "2021-01-01T13:00:25.722758",
     "exception": false,
     "start_time": "2021-01-01T13:00:25.660401",
     "status": "completed"
    },
    "tags": []
   },
   "outputs": [
    {
     "data": {
      "text/html": [
       "<div>\n",
       "<style scoped>\n",
       "    .dataframe tbody tr th:only-of-type {\n",
       "        vertical-align: middle;\n",
       "    }\n",
       "\n",
       "    .dataframe tbody tr th {\n",
       "        vertical-align: top;\n",
       "    }\n",
       "\n",
       "    .dataframe thead th {\n",
       "        text-align: right;\n",
       "    }\n",
       "</style>\n",
       "<table border=\"1\" class=\"dataframe\">\n",
       "  <thead>\n",
       "    <tr style=\"text-align: right;\">\n",
       "      <th></th>\n",
       "      <th>id</th>\n",
       "      <th>season</th>\n",
       "      <th>city</th>\n",
       "      <th>date</th>\n",
       "      <th>team1</th>\n",
       "      <th>team2</th>\n",
       "      <th>player_of_match</th>\n",
       "      <th>venue</th>\n",
       "      <th>umpire1</th>\n",
       "      <th>umpire2</th>\n",
       "      <th>umpire3</th>\n",
       "    </tr>\n",
       "  </thead>\n",
       "  <tbody>\n",
       "    <tr>\n",
       "      <th>0</th>\n",
       "      <td>1216492</td>\n",
       "      <td>2020</td>\n",
       "      <td>Abu Dhabi</td>\n",
       "      <td>9/19/2020</td>\n",
       "      <td>MI</td>\n",
       "      <td>CSK</td>\n",
       "      <td>AT Rayudu</td>\n",
       "      <td>Sheikh Zayed Stadium, Abu Dhabi</td>\n",
       "      <td>Chris Gaffaney</td>\n",
       "      <td>Virender Sharma</td>\n",
       "      <td>Sundaram Ravi</td>\n",
       "    </tr>\n",
       "    <tr>\n",
       "      <th>1</th>\n",
       "      <td>1216493</td>\n",
       "      <td>2020</td>\n",
       "      <td>Dubai (DSC)</td>\n",
       "      <td>9/20/2020</td>\n",
       "      <td>DC</td>\n",
       "      <td>KXIP</td>\n",
       "      <td>MP Stoinis</td>\n",
       "      <td>Dubai International Cricket Stadium</td>\n",
       "      <td>Anil Chaudhary</td>\n",
       "      <td>Nitin Menon</td>\n",
       "      <td>Paul Reiffel</td>\n",
       "    </tr>\n",
       "    <tr>\n",
       "      <th>2</th>\n",
       "      <td>1216534</td>\n",
       "      <td>2020</td>\n",
       "      <td>Dubai (DSC)</td>\n",
       "      <td>9/21/2020</td>\n",
       "      <td>SRH</td>\n",
       "      <td>RCB</td>\n",
       "      <td>YS Chahal</td>\n",
       "      <td>Dubai International Cricket Stadium</td>\n",
       "      <td>Anil Dandekar</td>\n",
       "      <td>Nitin Menon</td>\n",
       "      <td>Anil Chaudhary</td>\n",
       "    </tr>\n",
       "    <tr>\n",
       "      <th>3</th>\n",
       "      <td>1216496</td>\n",
       "      <td>2020</td>\n",
       "      <td>Sharjah</td>\n",
       "      <td>9/22/2020</td>\n",
       "      <td>RR</td>\n",
       "      <td>CSK</td>\n",
       "      <td>SV Samson</td>\n",
       "      <td>Sharjah Cricket Stadium</td>\n",
       "      <td>Chettithody Shamshuddin</td>\n",
       "      <td>Vineet Kulkarni</td>\n",
       "      <td>KN Ananthapadmanabhan</td>\n",
       "    </tr>\n",
       "    <tr>\n",
       "      <th>4</th>\n",
       "      <td>1216508</td>\n",
       "      <td>2020</td>\n",
       "      <td>Abu Dhabi</td>\n",
       "      <td>9/23/2020</td>\n",
       "      <td>KKR</td>\n",
       "      <td>MI</td>\n",
       "      <td>RG Sharma</td>\n",
       "      <td>Sheikh Zayed Stadium, Abu Dhabi</td>\n",
       "      <td>Chris Gaffaney</td>\n",
       "      <td>Sundaram Ravi</td>\n",
       "      <td>Virender Sharma</td>\n",
       "    </tr>\n",
       "  </tbody>\n",
       "</table>\n",
       "</div>"
      ],
      "text/plain": [
       "        id  season         city       date team1 team2 player_of_match  \\\n",
       "0  1216492    2020    Abu Dhabi  9/19/2020    MI   CSK       AT Rayudu   \n",
       "1  1216493    2020  Dubai (DSC)  9/20/2020    DC  KXIP      MP Stoinis   \n",
       "2  1216534    2020  Dubai (DSC)  9/21/2020   SRH   RCB       YS Chahal   \n",
       "3  1216496    2020      Sharjah  9/22/2020    RR   CSK       SV Samson   \n",
       "4  1216508    2020    Abu Dhabi  9/23/2020   KKR    MI       RG Sharma   \n",
       "\n",
       "                                 venue                  umpire1  \\\n",
       "0      Sheikh Zayed Stadium, Abu Dhabi           Chris Gaffaney   \n",
       "1  Dubai International Cricket Stadium           Anil Chaudhary   \n",
       "2  Dubai International Cricket Stadium            Anil Dandekar   \n",
       "3              Sharjah Cricket Stadium  Chettithody Shamshuddin   \n",
       "4      Sheikh Zayed Stadium, Abu Dhabi           Chris Gaffaney   \n",
       "\n",
       "           umpire2                umpire3  \n",
       "0  Virender Sharma          Sundaram Ravi  \n",
       "1      Nitin Menon           Paul Reiffel  \n",
       "2      Nitin Menon         Anil Chaudhary  \n",
       "3  Vineet Kulkarni  KN Ananthapadmanabhan  \n",
       "4    Sundaram Ravi        Virender Sharma  "
      ]
     },
     "execution_count": 21,
     "metadata": {},
     "output_type": "execute_result"
    }
   ],
   "source": [
    "test_data = pd.read_csv('/kaggle/input/winnerpredictionchallenge/Testset Matches IPL 2020.csv')\n",
    "test_data.head()"
   ]
  },
  {
   "cell_type": "code",
   "execution_count": 22,
   "metadata": {
    "execution": {
     "iopub.execute_input": "2021-01-01T13:00:25.790504Z",
     "iopub.status.busy": "2021-01-01T13:00:25.789901Z",
     "iopub.status.idle": "2021-01-01T13:00:25.802496Z",
     "shell.execute_reply": "2021-01-01T13:00:25.802910Z"
    },
    "papermill": {
     "duration": 0.051839,
     "end_time": "2021-01-01T13:00:25.803055",
     "exception": false,
     "start_time": "2021-01-01T13:00:25.751216",
     "status": "completed"
    },
    "tags": []
   },
   "outputs": [
    {
     "data": {
      "text/html": [
       "<div>\n",
       "<style scoped>\n",
       "    .dataframe tbody tr th:only-of-type {\n",
       "        vertical-align: middle;\n",
       "    }\n",
       "\n",
       "    .dataframe tbody tr th {\n",
       "        vertical-align: top;\n",
       "    }\n",
       "\n",
       "    .dataframe thead th {\n",
       "        text-align: right;\n",
       "    }\n",
       "</style>\n",
       "<table border=\"1\" class=\"dataframe\">\n",
       "  <thead>\n",
       "    <tr style=\"text-align: right;\">\n",
       "      <th></th>\n",
       "      <th>id</th>\n",
       "      <th>season</th>\n",
       "      <th>city</th>\n",
       "      <th>date</th>\n",
       "      <th>team1</th>\n",
       "      <th>team2</th>\n",
       "      <th>player_of_match</th>\n",
       "      <th>venue</th>\n",
       "      <th>umpire1</th>\n",
       "      <th>umpire2</th>\n",
       "      <th>umpire3</th>\n",
       "    </tr>\n",
       "  </thead>\n",
       "  <tbody>\n",
       "    <tr>\n",
       "      <th>0</th>\n",
       "      <td>1216492</td>\n",
       "      <td>2020</td>\n",
       "      <td>Abu Dhabi</td>\n",
       "      <td>9/19/2020</td>\n",
       "      <td>4</td>\n",
       "      <td>2</td>\n",
       "      <td>AT Rayudu</td>\n",
       "      <td>Sheikh Zayed Stadium, Abu Dhabi</td>\n",
       "      <td>Chris Gaffaney</td>\n",
       "      <td>Virender Sharma</td>\n",
       "      <td>Sundaram Ravi</td>\n",
       "    </tr>\n",
       "    <tr>\n",
       "      <th>1</th>\n",
       "      <td>1216493</td>\n",
       "      <td>2020</td>\n",
       "      <td>Dubai (DSC)</td>\n",
       "      <td>9/20/2020</td>\n",
       "      <td>8</td>\n",
       "      <td>6</td>\n",
       "      <td>MP Stoinis</td>\n",
       "      <td>Dubai International Cricket Stadium</td>\n",
       "      <td>Anil Chaudhary</td>\n",
       "      <td>Nitin Menon</td>\n",
       "      <td>Paul Reiffel</td>\n",
       "    </tr>\n",
       "    <tr>\n",
       "      <th>2</th>\n",
       "      <td>1216534</td>\n",
       "      <td>2020</td>\n",
       "      <td>Dubai (DSC)</td>\n",
       "      <td>9/21/2020</td>\n",
       "      <td>5</td>\n",
       "      <td>7</td>\n",
       "      <td>YS Chahal</td>\n",
       "      <td>Dubai International Cricket Stadium</td>\n",
       "      <td>Anil Dandekar</td>\n",
       "      <td>Nitin Menon</td>\n",
       "      <td>Anil Chaudhary</td>\n",
       "    </tr>\n",
       "    <tr>\n",
       "      <th>3</th>\n",
       "      <td>1216496</td>\n",
       "      <td>2020</td>\n",
       "      <td>Sharjah</td>\n",
       "      <td>9/22/2020</td>\n",
       "      <td>3</td>\n",
       "      <td>2</td>\n",
       "      <td>SV Samson</td>\n",
       "      <td>Sharjah Cricket Stadium</td>\n",
       "      <td>Chettithody Shamshuddin</td>\n",
       "      <td>Vineet Kulkarni</td>\n",
       "      <td>KN Ananthapadmanabhan</td>\n",
       "    </tr>\n",
       "    <tr>\n",
       "      <th>4</th>\n",
       "      <td>1216508</td>\n",
       "      <td>2020</td>\n",
       "      <td>Abu Dhabi</td>\n",
       "      <td>9/23/2020</td>\n",
       "      <td>1</td>\n",
       "      <td>4</td>\n",
       "      <td>RG Sharma</td>\n",
       "      <td>Sheikh Zayed Stadium, Abu Dhabi</td>\n",
       "      <td>Chris Gaffaney</td>\n",
       "      <td>Sundaram Ravi</td>\n",
       "      <td>Virender Sharma</td>\n",
       "    </tr>\n",
       "  </tbody>\n",
       "</table>\n",
       "</div>"
      ],
      "text/plain": [
       "        id  season         city       date  team1  team2 player_of_match  \\\n",
       "0  1216492    2020    Abu Dhabi  9/19/2020      4      2       AT Rayudu   \n",
       "1  1216493    2020  Dubai (DSC)  9/20/2020      8      6      MP Stoinis   \n",
       "2  1216534    2020  Dubai (DSC)  9/21/2020      5      7       YS Chahal   \n",
       "3  1216496    2020      Sharjah  9/22/2020      3      2       SV Samson   \n",
       "4  1216508    2020    Abu Dhabi  9/23/2020      1      4       RG Sharma   \n",
       "\n",
       "                                 venue                  umpire1  \\\n",
       "0      Sheikh Zayed Stadium, Abu Dhabi           Chris Gaffaney   \n",
       "1  Dubai International Cricket Stadium           Anil Chaudhary   \n",
       "2  Dubai International Cricket Stadium            Anil Dandekar   \n",
       "3              Sharjah Cricket Stadium  Chettithody Shamshuddin   \n",
       "4      Sheikh Zayed Stadium, Abu Dhabi           Chris Gaffaney   \n",
       "\n",
       "           umpire2                umpire3  \n",
       "0  Virender Sharma          Sundaram Ravi  \n",
       "1      Nitin Menon           Paul Reiffel  \n",
       "2      Nitin Menon         Anil Chaudhary  \n",
       "3  Vineet Kulkarni  KN Ananthapadmanabhan  \n",
       "4    Sundaram Ravi        Virender Sharma  "
      ]
     },
     "execution_count": 22,
     "metadata": {},
     "output_type": "execute_result"
    }
   ],
   "source": [
    "encode = {'team1': {'KKR':1,'CSK':2,'RR':3,'MI':4,'SRH':5,'KXIP':6,'RCB':7,'DC':8,'KTK':9,'RPS':10,'GL':11,'PW':12},\n",
    "         'team2': {'KKR':1,'CSK':2,'RR':3,'MI':4,'SRH':5,'KXIP':6,'RCB':7,'DC':8,'KTK':9,'RPS':10,'GL':11,'PW':12}}\n",
    "test_data.replace(encode,inplace=True)\n",
    "test_data.head()"
   ]
  },
  {
   "cell_type": "code",
   "execution_count": 23,
   "metadata": {
    "execution": {
     "iopub.execute_input": "2021-01-01T13:00:25.864969Z",
     "iopub.status.busy": "2021-01-01T13:00:25.864391Z",
     "iopub.status.idle": "2021-01-01T13:00:25.871470Z",
     "shell.execute_reply": "2021-01-01T13:00:25.871972Z"
    },
    "papermill": {
     "duration": 0.039021,
     "end_time": "2021-01-01T13:00:25.872102",
     "exception": false,
     "start_time": "2021-01-01T13:00:25.833081",
     "status": "completed"
    },
    "tags": []
   },
   "outputs": [
    {
     "data": {
      "text/plain": [
       "id                  int64\n",
       "season              int64\n",
       "city               object\n",
       "date               object\n",
       "team1               int64\n",
       "team2               int64\n",
       "player_of_match    object\n",
       "venue               int64\n",
       "umpire1            object\n",
       "umpire2            object\n",
       "umpire3            object\n",
       "dtype: object"
      ]
     },
     "execution_count": 23,
     "metadata": {},
     "output_type": "execute_result"
    }
   ],
   "source": [
    "var_mod = ['venue']\n",
    "le = LabelEncoder()\n",
    "for i in var_mod:\n",
    "    test_data[i] = le.fit_transform(test_data[i])\n",
    "test_data.dtypes"
   ]
  },
  {
   "cell_type": "markdown",
   "metadata": {
    "papermill": {
     "duration": 0.029373,
     "end_time": "2021-01-01T13:00:25.930535",
     "exception": false,
     "start_time": "2021-01-01T13:00:25.901162",
     "status": "completed"
    },
    "tags": []
   },
   "source": [
    "# Using Random Forest Model"
   ]
  },
  {
   "cell_type": "code",
   "execution_count": 24,
   "metadata": {
    "execution": {
     "iopub.execute_input": "2021-01-01T13:00:26.025757Z",
     "iopub.status.busy": "2021-01-01T13:00:26.024734Z",
     "iopub.status.idle": "2021-01-01T13:00:26.044449Z",
     "shell.execute_reply": "2021-01-01T13:00:26.045141Z"
    },
    "papermill": {
     "duration": 0.085206,
     "end_time": "2021-01-01T13:00:26.045286",
     "exception": false,
     "start_time": "2021-01-01T13:00:25.960080",
     "status": "completed"
    },
    "tags": []
   },
   "outputs": [],
   "source": [
    "test_X = test_data[['team1','team2','venue']]\n",
    "test_X = sc.fit_transform(test_X)\n",
    "y_predict = Random_model.predict(test_X)"
   ]
  },
  {
   "cell_type": "code",
   "execution_count": 25,
   "metadata": {
    "execution": {
     "iopub.execute_input": "2021-01-01T13:00:26.111173Z",
     "iopub.status.busy": "2021-01-01T13:00:26.110235Z",
     "iopub.status.idle": "2021-01-01T13:00:26.112977Z",
     "shell.execute_reply": "2021-01-01T13:00:26.113751Z"
    },
    "papermill": {
     "duration": 0.038436,
     "end_time": "2021-01-01T13:00:26.114003",
     "exception": false,
     "start_time": "2021-01-01T13:00:26.075567",
     "status": "completed"
    },
    "tags": []
   },
   "outputs": [],
   "source": [
    "newlist = list()\n",
    "for i in y_predict:\n",
    "    newlist.append(list(dicVal.keys())[list(dicVal.values()).index(i)]) "
   ]
  },
  {
   "cell_type": "code",
   "execution_count": 26,
   "metadata": {
    "execution": {
     "iopub.execute_input": "2021-01-01T13:00:26.185686Z",
     "iopub.status.busy": "2021-01-01T13:00:26.184686Z",
     "iopub.status.idle": "2021-01-01T13:00:26.228000Z",
     "shell.execute_reply": "2021-01-01T13:00:26.228499Z"
    },
    "papermill": {
     "duration": 0.076899,
     "end_time": "2021-01-01T13:00:26.228629",
     "exception": false,
     "start_time": "2021-01-01T13:00:26.151730",
     "status": "completed"
    },
    "tags": []
   },
   "outputs": [
    {
     "data": {
      "text/html": [
       "<div>\n",
       "<style scoped>\n",
       "    .dataframe tbody tr th:only-of-type {\n",
       "        vertical-align: middle;\n",
       "    }\n",
       "\n",
       "    .dataframe tbody tr th {\n",
       "        vertical-align: top;\n",
       "    }\n",
       "\n",
       "    .dataframe thead th {\n",
       "        text-align: right;\n",
       "    }\n",
       "</style>\n",
       "<table border=\"1\" class=\"dataframe\">\n",
       "  <thead>\n",
       "    <tr style=\"text-align: right;\">\n",
       "      <th></th>\n",
       "      <th>id</th>\n",
       "      <th>season</th>\n",
       "      <th>city</th>\n",
       "      <th>date</th>\n",
       "      <th>team1</th>\n",
       "      <th>team2</th>\n",
       "      <th>player_of_match</th>\n",
       "      <th>venue</th>\n",
       "      <th>umpire1</th>\n",
       "      <th>umpire2</th>\n",
       "      <th>umpire3</th>\n",
       "      <th>winner</th>\n",
       "      <th>winner_team</th>\n",
       "      <th>win_by_number</th>\n",
       "    </tr>\n",
       "  </thead>\n",
       "  <tbody>\n",
       "    <tr>\n",
       "      <th>0</th>\n",
       "      <td>1216492</td>\n",
       "      <td>2020</td>\n",
       "      <td>Abu Dhabi</td>\n",
       "      <td>9/19/2020</td>\n",
       "      <td>MI</td>\n",
       "      <td>CSK</td>\n",
       "      <td>AT Rayudu</td>\n",
       "      <td>Sheikh Zayed Stadium, Abu Dhabi</td>\n",
       "      <td>Chris Gaffaney</td>\n",
       "      <td>Virender Sharma</td>\n",
       "      <td>Sundaram Ravi</td>\n",
       "      <td>CSK</td>\n",
       "      <td>2.0</td>\n",
       "      <td>2</td>\n",
       "    </tr>\n",
       "    <tr>\n",
       "      <th>1</th>\n",
       "      <td>1216493</td>\n",
       "      <td>2020</td>\n",
       "      <td>Dubai (DSC)</td>\n",
       "      <td>9/20/2020</td>\n",
       "      <td>DC</td>\n",
       "      <td>KXIP</td>\n",
       "      <td>MP Stoinis</td>\n",
       "      <td>Dubai International Cricket Stadium</td>\n",
       "      <td>Anil Chaudhary</td>\n",
       "      <td>Nitin Menon</td>\n",
       "      <td>Paul Reiffel</td>\n",
       "      <td>RCB</td>\n",
       "      <td>2.0</td>\n",
       "      <td>2</td>\n",
       "    </tr>\n",
       "    <tr>\n",
       "      <th>2</th>\n",
       "      <td>1216534</td>\n",
       "      <td>2020</td>\n",
       "      <td>Dubai (DSC)</td>\n",
       "      <td>9/21/2020</td>\n",
       "      <td>SRH</td>\n",
       "      <td>RCB</td>\n",
       "      <td>YS Chahal</td>\n",
       "      <td>Dubai International Cricket Stadium</td>\n",
       "      <td>Anil Dandekar</td>\n",
       "      <td>Nitin Menon</td>\n",
       "      <td>Anil Chaudhary</td>\n",
       "      <td>DC</td>\n",
       "      <td>2.0</td>\n",
       "      <td>2</td>\n",
       "    </tr>\n",
       "    <tr>\n",
       "      <th>3</th>\n",
       "      <td>1216496</td>\n",
       "      <td>2020</td>\n",
       "      <td>Sharjah</td>\n",
       "      <td>9/22/2020</td>\n",
       "      <td>RR</td>\n",
       "      <td>CSK</td>\n",
       "      <td>SV Samson</td>\n",
       "      <td>Sharjah Cricket Stadium</td>\n",
       "      <td>Chettithody Shamshuddin</td>\n",
       "      <td>Vineet Kulkarni</td>\n",
       "      <td>KN Ananthapadmanabhan</td>\n",
       "      <td>CSK</td>\n",
       "      <td>2.0</td>\n",
       "      <td>2</td>\n",
       "    </tr>\n",
       "    <tr>\n",
       "      <th>4</th>\n",
       "      <td>1216508</td>\n",
       "      <td>2020</td>\n",
       "      <td>Abu Dhabi</td>\n",
       "      <td>9/23/2020</td>\n",
       "      <td>KKR</td>\n",
       "      <td>MI</td>\n",
       "      <td>RG Sharma</td>\n",
       "      <td>Sheikh Zayed Stadium, Abu Dhabi</td>\n",
       "      <td>Chris Gaffaney</td>\n",
       "      <td>Sundaram Ravi</td>\n",
       "      <td>Virender Sharma</td>\n",
       "      <td>KKR</td>\n",
       "      <td>1.0</td>\n",
       "      <td>1</td>\n",
       "    </tr>\n",
       "  </tbody>\n",
       "</table>\n",
       "</div>"
      ],
      "text/plain": [
       "        id  season         city       date team1 team2 player_of_match  \\\n",
       "0  1216492    2020    Abu Dhabi  9/19/2020    MI   CSK       AT Rayudu   \n",
       "1  1216493    2020  Dubai (DSC)  9/20/2020    DC  KXIP      MP Stoinis   \n",
       "2  1216534    2020  Dubai (DSC)  9/21/2020   SRH   RCB       YS Chahal   \n",
       "3  1216496    2020      Sharjah  9/22/2020    RR   CSK       SV Samson   \n",
       "4  1216508    2020    Abu Dhabi  9/23/2020   KKR    MI       RG Sharma   \n",
       "\n",
       "                                 venue                  umpire1  \\\n",
       "0      Sheikh Zayed Stadium, Abu Dhabi           Chris Gaffaney   \n",
       "1  Dubai International Cricket Stadium           Anil Chaudhary   \n",
       "2  Dubai International Cricket Stadium            Anil Dandekar   \n",
       "3              Sharjah Cricket Stadium  Chettithody Shamshuddin   \n",
       "4      Sheikh Zayed Stadium, Abu Dhabi           Chris Gaffaney   \n",
       "\n",
       "           umpire2                umpire3 winner  winner_team  win_by_number  \n",
       "0  Virender Sharma          Sundaram Ravi    CSK          2.0              2  \n",
       "1      Nitin Menon           Paul Reiffel    RCB          2.0              2  \n",
       "2      Nitin Menon         Anil Chaudhary     DC          2.0              2  \n",
       "3  Vineet Kulkarni  KN Ananthapadmanabhan    CSK          2.0              2  \n",
       "4    Sundaram Ravi        Virender Sharma    KKR          1.0              1  "
      ]
     },
     "execution_count": 26,
     "metadata": {},
     "output_type": "execute_result"
    }
   ],
   "source": [
    "test_data['winner'] = newlist\n",
    "test_data['venue'] = le.inverse_transform(test_data['venue'])\n",
    "for i in range(60):\n",
    "    test_data['team1'][i]=(list(dicVal.keys())[list(dicVal.values()).index(test_data['team1'][i])]) \n",
    "    test_data['team2'][i]=(list(dicVal.keys())[list(dicVal.values()).index(test_data['team2'][i])]) \n",
    "test_data.loc[test_data[\"winner\"]==test_data[\"team1\"],\"winner_team\"]=1\n",
    "test_data.loc[test_data[\"winner\"]!=test_data[\"team1\"],\"winner_team\"]=2\n",
    "test_data['win_by_number']=test_data['winner_team'].astype(int)\n",
    "test_data.head()"
   ]
  },
  {
   "cell_type": "code",
   "execution_count": 27,
   "metadata": {
    "execution": {
     "iopub.execute_input": "2021-01-01T13:00:26.292287Z",
     "iopub.status.busy": "2021-01-01T13:00:26.291363Z",
     "iopub.status.idle": "2021-01-01T13:00:26.496681Z",
     "shell.execute_reply": "2021-01-01T13:00:26.497249Z"
    },
    "papermill": {
     "duration": 0.238869,
     "end_time": "2021-01-01T13:00:26.497396",
     "exception": false,
     "start_time": "2021-01-01T13:00:26.258527",
     "status": "completed"
    },
    "tags": []
   },
   "outputs": [],
   "source": [
    "match_id = test_data['id']\n",
    "win_by_number = test_data['win_by_number']\n",
    "data = pd.DataFrame((zip(match_id,win_by_number)), columns=['id', 'winner'])\n",
    "data.to_csv('submission.csv',index=False)"
   ]
  },
  {
   "cell_type": "code",
   "execution_count": null,
   "metadata": {
    "papermill": {
     "duration": 0.029704,
     "end_time": "2021-01-01T13:00:26.557460",
     "exception": false,
     "start_time": "2021-01-01T13:00:26.527756",
     "status": "completed"
    },
    "tags": []
   },
   "outputs": [],
   "source": []
  }
 ],
 "metadata": {
  "kernelspec": {
   "display_name": "Python 3",
   "language": "python",
   "name": "python3"
  },
  "language_info": {
   "codemirror_mode": {
    "name": "ipython",
    "version": 3
   },
   "file_extension": ".py",
   "mimetype": "text/x-python",
   "name": "python",
   "nbconvert_exporter": "python",
   "pygments_lexer": "ipython3",
   "version": "3.7.6"
  },
  "papermill": {
   "duration": 12.070973,
   "end_time": "2021-01-01T13:00:26.693588",
   "environment_variables": {},
   "exception": null,
   "input_path": "__notebook__.ipynb",
   "output_path": "__notebook__.ipynb",
   "parameters": {},
   "start_time": "2021-01-01T13:00:14.622615",
   "version": "2.1.0"
  }
 },
 "nbformat": 4,
 "nbformat_minor": 4
}
